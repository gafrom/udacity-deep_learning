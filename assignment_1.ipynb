{
 "cells": [
  {
   "cell_type": "code",
   "execution_count": 1,
   "metadata": {
    "collapsed": true
   },
   "outputs": [],
   "source": [
    "# These are all the modules we'll be using later. Make sure you can import them\n",
    "# before proceeding further.\n",
    "from __future__ import print_function\n",
    "import matplotlib.pyplot as plt\n",
    "import numpy as np\n",
    "import os\n",
    "import sys\n",
    "import tarfile\n",
    "from IPython.display import display, Image\n",
    "from scipy import ndimage\n",
    "from sklearn.linear_model import LogisticRegression\n",
    "from six.moves.urllib.request import urlretrieve\n",
    "from six.moves import cPickle as pickle\n",
    "\n",
    "# Config the matlotlib backend as plotting inline in IPython\n",
    "%matplotlib inline"
   ]
  },
  {
   "cell_type": "code",
   "execution_count": 2,
   "metadata": {},
   "outputs": [
    {
     "name": "stdout",
     "output_type": "stream",
     "text": [
      "Found and verified notMNIST_large.tar.gz\n",
      "Found and verified notMNIST_small.tar.gz\n"
     ]
    }
   ],
   "source": [
    "url = 'http://commondatastorage.googleapis.com/books1000/'\n",
    "last_percent_reported = None\n",
    "\n",
    "def download_progress_hook(count, blockSize, totalSize):\n",
    "  \"\"\"A hook to report the progress of a download. This is mostly intended for users with\n",
    "  slow internet connections. Reports every 1% change in download progress.\n",
    "  \"\"\"\n",
    "  global last_percent_reported\n",
    "  percent = int(count * blockSize * 100 / totalSize)\n",
    "\n",
    "  if last_percent_reported != percent:\n",
    "    if percent % 5 == 0:\n",
    "      sys.stdout.write(\"%s%%\" % percent)\n",
    "      sys.stdout.flush()\n",
    "    else:\n",
    "      sys.stdout.write(\".\")\n",
    "      sys.stdout.flush()\n",
    "      \n",
    "    last_percent_reported = percent\n",
    "        \n",
    "def maybe_download(filename, expected_bytes, force=False):\n",
    "  \"\"\"Download a file if not present, and make sure it's the right size.\"\"\"\n",
    "  if force or not os.path.exists(filename):\n",
    "    print('Attempting to download:', filename) \n",
    "    filename, _ = urlretrieve(url + filename, filename, reporthook=download_progress_hook)\n",
    "    print('\\nDownload Complete!')\n",
    "  statinfo = os.stat(filename)\n",
    "  if statinfo.st_size == expected_bytes:\n",
    "    print('Found and verified', filename)\n",
    "  else:\n",
    "    raise Exception(\n",
    "      'Failed to verify ' + filename + '. Can you get to it with a browser?')\n",
    "  return filename\n",
    "\n",
    "train_filename = maybe_download('notMNIST_large.tar.gz', 247336696)\n",
    "test_filename = maybe_download('notMNIST_small.tar.gz', 8458043)"
   ]
  },
  {
   "cell_type": "code",
   "execution_count": 3,
   "metadata": {},
   "outputs": [
    {
     "name": "stdout",
     "output_type": "stream",
     "text": [
      "notMNIST_large already present - Skipping extraction of notMNIST_large.tar.gz.\n",
      "['notMNIST_large/A', 'notMNIST_large/B', 'notMNIST_large/C', 'notMNIST_large/D', 'notMNIST_large/E', 'notMNIST_large/F', 'notMNIST_large/G', 'notMNIST_large/H', 'notMNIST_large/I', 'notMNIST_large/J']\n",
      "notMNIST_small already present - Skipping extraction of notMNIST_small.tar.gz.\n",
      "['notMNIST_small/A', 'notMNIST_small/B', 'notMNIST_small/C', 'notMNIST_small/D', 'notMNIST_small/E', 'notMNIST_small/F', 'notMNIST_small/G', 'notMNIST_small/H', 'notMNIST_small/I', 'notMNIST_small/J']\n"
     ]
    }
   ],
   "source": [
    "num_classes = 10\n",
    "np.random.seed(133)\n",
    "\n",
    "def maybe_extract(filename, force=False):\n",
    "  root = os.path.splitext(os.path.splitext(filename)[0])[0]  # remove .tar.gz\n",
    "  if os.path.isdir(root) and not force:\n",
    "    # You may override by setting force=True.\n",
    "    print('%s already present - Skipping extraction of %s.' % (root, filename))\n",
    "  else:\n",
    "    print('Extracting data for %s. This may take a while. Please wait.' % root)\n",
    "    tar = tarfile.open(filename)\n",
    "    sys.stdout.flush()\n",
    "    tar.extractall()\n",
    "    tar.close()\n",
    "  data_folders = [\n",
    "    os.path.join(root, d) for d in sorted(os.listdir(root))\n",
    "    if os.path.isdir(os.path.join(root, d))]\n",
    "  if len(data_folders) != num_classes:\n",
    "    raise Exception(\n",
    "      'Expected %d folders, one per class. Found %d instead.' % (\n",
    "        num_classes, len(data_folders)))\n",
    "  print(data_folders)\n",
    "  return data_folders\n",
    "  \n",
    "train_folders = maybe_extract(train_filename)\n",
    "test_folders = maybe_extract(test_filename)"
   ]
  },
  {
   "cell_type": "code",
   "execution_count": 4,
   "metadata": {},
   "outputs": [
    {
     "name": "stdout",
     "output_type": "stream",
     "text": [
      "B\n"
     ]
    },
    {
     "data": {
      "image/png": "[encoded data removed]",
      "text/plain": [
       "<IPython.core.display.Image object>"
      ]
     },
     "metadata": {},
     "output_type": "display_data"
    },
    {
     "name": "stdout",
     "output_type": "stream",
     "text": [
      "I\n"
     ]
    },
    {
     "data": {
      "image/png": "[encoded data removed]",
      "text/plain": [
       "<IPython.core.display.Image object>"
      ]
     },
     "metadata": {},
     "output_type": "display_data"
    },
    {
     "name": "stdout",
     "output_type": "stream",
     "text": [
      "I\n"
     ]
    },
    {
     "data": {
      "image/png": "[encoded data removed]",
      "text/plain": [
       "<IPython.core.display.Image object>"
      ]
     },
     "metadata": {},
     "output_type": "display_data"
    },
    {
     "name": "stdout",
     "output_type": "stream",
     "text": [
      "B\n"
     ]
    },
    {
     "data": {
      "image/png": "[encoded data removed]",
      "text/plain": [
       "<IPython.core.display.Image object>"
      ]
     },
     "metadata": {},
     "output_type": "display_data"
    },
    {
     "name": "stdout",
     "output_type": "stream",
     "text": [
      "G\n"
     ]
    },
    {
     "data": {
      "image/png": "[encoded data removed]",
      "text/plain": [
       "<IPython.core.display.Image object>"
      ]
     },
     "metadata": {},
     "output_type": "display_data"
    }
   ],
   "source": [
    "# Task 1. Display some images that were downloaded. (Problem 1)\n",
    "\n",
    "folders = np.random.choice(train_folders, 5)\n",
    "for folder in folders:\n",
    "    fname = np.random.choice(os.listdir(folder))\n",
    "    file = os.path.join(folder, fname)\n",
    "    label = folder[-1]\n",
    "    print(label)\n",
    "    display(Image(filename=file))"
   ]
  },
  {
   "cell_type": "code",
   "execution_count": 5,
   "metadata": {},
   "outputs": [
    {
     "name": "stdout",
     "output_type": "stream",
     "text": [
      "Pickling notMNIST_large/A.pickle.\n",
      "notMNIST_large/A\n",
      "Could not read: notMNIST_large/A/RnJlaWdodERpc3BCb29rSXRhbGljLnR0Zg==.png : cannot identify image file 'notMNIST_large/A/RnJlaWdodERpc3BCb29rSXRhbGljLnR0Zg==.png' - it's ok, skipping.\n",
      "Could not read: notMNIST_large/A/SG90IE11c3RhcmQgQlROIFBvc3Rlci50dGY=.png : cannot identify image file 'notMNIST_large/A/SG90IE11c3RhcmQgQlROIFBvc3Rlci50dGY=.png' - it's ok, skipping.\n",
      "Could not read: notMNIST_large/A/Um9tYW5hIEJvbGQucGZi.png : cannot identify image file 'notMNIST_large/A/Um9tYW5hIEJvbGQucGZi.png' - it's ok, skipping.\n",
      "Full dataset tensor: (52909, 28, 28)\n",
      "Mean: -0.12825\n",
      "Standard deviation: 0.443121\n",
      "Pickling notMNIST_large/B.pickle.\n",
      "notMNIST_large/B\n",
      "Could not read: notMNIST_large/B/TmlraXNFRi1TZW1pQm9sZEl0YWxpYy5vdGY=.png : cannot identify image file 'notMNIST_large/B/TmlraXNFRi1TZW1pQm9sZEl0YWxpYy5vdGY=.png' - it's ok, skipping.\n",
      "Full dataset tensor: (52911, 28, 28)\n",
      "Mean: -0.00756303\n",
      "Standard deviation: 0.454491\n",
      "Pickling notMNIST_large/C.pickle.\n",
      "notMNIST_large/C\n",
      "Full dataset tensor: (52912, 28, 28)\n",
      "Mean: -0.142258\n",
      "Standard deviation: 0.439806\n",
      "Pickling notMNIST_large/D.pickle.\n",
      "notMNIST_large/D\n",
      "Could not read: notMNIST_large/D/VHJhbnNpdCBCb2xkLnR0Zg==.png : cannot identify image file 'notMNIST_large/D/VHJhbnNpdCBCb2xkLnR0Zg==.png' - it's ok, skipping.\n",
      "Full dataset tensor: (52911, 28, 28)\n",
      "Mean: -0.0573678\n",
      "Standard deviation: 0.455648\n",
      "Pickling notMNIST_large/E.pickle.\n",
      "notMNIST_large/E\n",
      "Full dataset tensor: (52912, 28, 28)\n",
      "Mean: -0.069899\n",
      "Standard deviation: 0.452942\n",
      "Pickling notMNIST_large/F.pickle.\n",
      "notMNIST_large/F\n",
      "Full dataset tensor: (52912, 28, 28)\n",
      "Mean: -0.125583\n",
      "Standard deviation: 0.44709\n",
      "Pickling notMNIST_large/G.pickle.\n",
      "notMNIST_large/G\n",
      "Full dataset tensor: (52912, 28, 28)\n",
      "Mean: -0.0945814\n",
      "Standard deviation: 0.44624\n",
      "Pickling notMNIST_large/H.pickle.\n",
      "notMNIST_large/H\n",
      "Full dataset tensor: (52912, 28, 28)\n",
      "Mean: -0.0685221\n",
      "Standard deviation: 0.454232\n",
      "Pickling notMNIST_large/I.pickle.\n",
      "notMNIST_large/I\n",
      "Full dataset tensor: (52912, 28, 28)\n",
      "Mean: 0.0307862\n",
      "Standard deviation: 0.468899\n",
      "Pickling notMNIST_large/J.pickle.\n",
      "notMNIST_large/J\n",
      "Full dataset tensor: (52911, 28, 28)\n",
      "Mean: -0.153358\n",
      "Standard deviation: 0.443656\n",
      "Pickling notMNIST_small/A.pickle.\n",
      "notMNIST_small/A\n",
      "Could not read: notMNIST_small/A/RGVtb2NyYXRpY2FCb2xkT2xkc3R5bGUgQm9sZC50dGY=.png : cannot identify image file 'notMNIST_small/A/RGVtb2NyYXRpY2FCb2xkT2xkc3R5bGUgQm9sZC50dGY=.png' - it's ok, skipping.\n",
      "Full dataset tensor: (1872, 28, 28)\n",
      "Mean: -0.132626\n",
      "Standard deviation: 0.445128\n",
      "Pickling notMNIST_small/B.pickle.\n",
      "notMNIST_small/B\n",
      "Full dataset tensor: (1873, 28, 28)\n",
      "Mean: 0.00535609\n",
      "Standard deviation: 0.457115\n",
      "Pickling notMNIST_small/C.pickle.\n",
      "notMNIST_small/C\n",
      "Full dataset tensor: (1873, 28, 28)\n",
      "Mean: -0.141521\n",
      "Standard deviation: 0.44269\n",
      "Pickling notMNIST_small/D.pickle.\n",
      "notMNIST_small/D\n",
      "Full dataset tensor: (1873, 28, 28)\n",
      "Mean: -0.0492167\n",
      "Standard deviation: 0.459759\n",
      "Pickling notMNIST_small/E.pickle.\n",
      "notMNIST_small/E\n",
      "Full dataset tensor: (1873, 28, 28)\n",
      "Mean: -0.0599148\n",
      "Standard deviation: 0.45735\n",
      "Pickling notMNIST_small/F.pickle.\n",
      "notMNIST_small/F\n",
      "Could not read: notMNIST_small/F/Q3Jvc3NvdmVyIEJvbGRPYmxpcXVlLnR0Zg==.png : cannot identify image file 'notMNIST_small/F/Q3Jvc3NvdmVyIEJvbGRPYmxpcXVlLnR0Zg==.png' - it's ok, skipping.\n",
      "Full dataset tensor: (1872, 28, 28)\n",
      "Mean: -0.118185\n",
      "Standard deviation: 0.452279\n",
      "Pickling notMNIST_small/G.pickle.\n",
      "notMNIST_small/G\n",
      "Full dataset tensor: (1872, 28, 28)\n",
      "Mean: -0.0925503\n",
      "Standard deviation: 0.449006\n",
      "Pickling notMNIST_small/H.pickle.\n",
      "notMNIST_small/H\n",
      "Full dataset tensor: (1872, 28, 28)\n",
      "Mean: -0.0586893\n",
      "Standard deviation: 0.458759\n",
      "Pickling notMNIST_small/I.pickle.\n",
      "notMNIST_small/I\n",
      "Full dataset tensor: (1872, 28, 28)\n",
      "Mean: 0.0526451\n",
      "Standard deviation: 0.471894\n",
      "Pickling notMNIST_small/J.pickle.\n",
      "notMNIST_small/J\n",
      "Full dataset tensor: (1872, 28, 28)\n",
      "Mean: -0.151689\n",
      "Standard deviation: 0.448014\n"
     ]
    }
   ],
   "source": [
    "image_size = 28  # Pixel width and height.\n",
    "pixel_depth = 255.0  # Number of levels per pixel.\n",
    "\n",
    "def load_letter(folder, min_num_images):\n",
    "  \"\"\"Load the data for a single letter label.\"\"\"\n",
    "  image_files = os.listdir(folder)\n",
    "  dataset = np.ndarray(shape=(len(image_files), image_size, image_size),\n",
    "                         dtype=np.float32)\n",
    "  print(folder)\n",
    "  num_images = 0\n",
    "  for image in image_files:\n",
    "    image_file = os.path.join(folder, image)\n",
    "    try:\n",
    "      image_data = (ndimage.imread(image_file).astype(float) - \n",
    "                    pixel_depth / 2) / pixel_depth\n",
    "      if image_data.shape != (image_size, image_size):\n",
    "        raise Exception('Unexpected image shape: %s' % str(image_data.shape))\n",
    "      dataset[num_images, :, :] = image_data\n",
    "      num_images = num_images + 1\n",
    "    except IOError as e:\n",
    "      print('Could not read:', image_file, ':', e, '- it\\'s ok, skipping.')\n",
    "    \n",
    "  dataset = dataset[0:num_images, :, :]\n",
    "  if num_images < min_num_images:\n",
    "    raise Exception('Many fewer images than expected: %d < %d' %\n",
    "                    (num_images, min_num_images))\n",
    "    \n",
    "  print('Full dataset tensor:', dataset.shape)\n",
    "  print('Mean:', np.mean(dataset))\n",
    "  print('Standard deviation:', np.std(dataset))\n",
    "  return dataset\n",
    "        \n",
    "def maybe_pickle(data_folders, min_num_images_per_class, force=False):\n",
    "  dataset_names = []\n",
    "  for folder in data_folders:\n",
    "    set_filename = folder + '.pickle'\n",
    "    dataset_names.append(set_filename)\n",
    "    if os.path.exists(set_filename) and not force:\n",
    "      # You may override by setting force=True.\n",
    "      print('%s already present - Skipping pickling.' % set_filename)\n",
    "    else:\n",
    "      print('Pickling %s.' % set_filename)\n",
    "      dataset = load_letter(folder, min_num_images_per_class)\n",
    "      try:\n",
    "        with open(set_filename, 'wb') as f:\n",
    "          pickle.dump(dataset, f, pickle.HIGHEST_PROTOCOL)\n",
    "      except Exception as e:\n",
    "        print('Unable to save data to', set_filename, ':', e)\n",
    "  \n",
    "  return dataset_names\n",
    "\n",
    "train_datasets = maybe_pickle(train_folders, 45000)\n",
    "test_datasets = maybe_pickle(test_folders, 1800)"
   ]
  },
  {
   "cell_type": "code",
   "execution_count": 8,
   "metadata": {},
   "outputs": [
    {
     "data": {
      "image/png": "[encoded data removed]",
      "text/plain": [
       "<matplotlib.figure.Figure at 0x1076dec18>"
      ]
     },
     "metadata": {},
     "output_type": "display_data"
    }
   ],
   "source": [
    "# Task 2. Display images from datasets. (Problem 2)\n",
    "\n",
    "sample_dataset_file = np.random.choice(train_datasets)\n",
    "try:\n",
    "    with open(sample_dataset_file, 'rb') as f:\n",
    "        sample_dataset = pickle.load(f)\n",
    "except Exception as e:\n",
    "    print('Error loading file:', e)\n",
    "\n",
    "number_of_samples = 5\n",
    "indices = np.random.choice(sample_dataset.shape[0], number_of_samples)\n",
    "# combined_img_dataset = np.ndarray(shape=(number_of_samples*image_size, image_size), dtype=np.float32)\n",
    "\n",
    "i = 0\n",
    "w = 0.5\n",
    "label = sample_dataset_file[-8:-7]\n",
    "fig = plt.figure()\n",
    "for index in indices:\n",
    "    # combined_img_dataset[i*image_size:(i+1)*image_size, :] = sample_dataset[index, :, :]\n",
    "    i += 1\n",
    "    \n",
    "    pos = [i*w, 1, w, w]\n",
    "    a = fig.add_axes(pos)\n",
    "\n",
    "    a.imshow(sample_dataset[index, :, :])\n",
    "    a.set_title(\"Label: %s, index: %s\" % (label, index))\n"
   ]
  },
  {
   "cell_type": "code",
   "execution_count": 9,
   "metadata": {},
   "outputs": [
    {
     "name": "stdout",
     "output_type": "stream",
     "text": [
      "A. 52909 => 1872\n",
      "B. 52911 => 1873\n",
      "C. 52912 => 1873\n",
      "D. 52911 => 1873\n",
      "E. 52912 => 1873\n",
      "F. 52912 => 1872\n",
      "G. 52912 => 1872\n",
      "H. 52912 => 1872\n",
      "I. 52912 => 1872\n",
      "J. 52911 => 1872\n"
     ]
    }
   ],
   "source": [
    "# Task 3. Check that data is balanced across classes. (Problem 3)\n",
    "\n",
    "for train_dataset_file in train_datasets:\n",
    "    test_dataset_file = train_dataset_file.replace('large', 'small')\n",
    "    label = train_dataset_file[15:17]\n",
    "    try:\n",
    "        with open(train_dataset_file, 'rb') as f:\n",
    "            train_dataset = pickle.load(f)\n",
    "        with open(test_dataset_file, 'rb') as f:\n",
    "            test_dataset = pickle.load(f)\n",
    "    except Exception as e:\n",
    "        print('Error loading file:', e)\n",
    "    print(label, train_dataset.shape[0], '=>', test_dataset.shape[0])"
   ]
  },
  {
   "cell_type": "code",
   "execution_count": 11,
   "metadata": {},
   "outputs": [
    {
     "name": "stdout",
     "output_type": "stream",
     "text": [
      "Training: (200000, 28, 28) (200000,)\n",
      "Validation: (10000, 28, 28) (10000,)\n",
      "Testing: (10000, 28, 28) (10000,)\n"
     ]
    }
   ],
   "source": [
    "def make_arrays(nb_rows, img_size):\n",
    "  if nb_rows:\n",
    "    dataset = np.ndarray((nb_rows, img_size, img_size), dtype=np.float32)\n",
    "    labels = np.ndarray(nb_rows, dtype=np.int32)\n",
    "  else:\n",
    "    dataset, labels = None, None\n",
    "  return dataset, labels\n",
    "\n",
    "def merge_datasets(pickle_files, train_size, valid_size=0):\n",
    "  num_classes = len(pickle_files)\n",
    "  valid_dataset, valid_labels = make_arrays(valid_size, image_size)\n",
    "  train_dataset, train_labels = make_arrays(train_size, image_size)\n",
    "  vsize_per_class = valid_size // num_classes\n",
    "  tsize_per_class = train_size // num_classes\n",
    "    \n",
    "  start_v, start_t = 0, 0\n",
    "  end_v, end_t = vsize_per_class, tsize_per_class\n",
    "  end_l = vsize_per_class+tsize_per_class\n",
    "  for label, pickle_file in enumerate(pickle_files):       \n",
    "    try:\n",
    "      with open(pickle_file, 'rb') as f:\n",
    "        letter_set = pickle.load(f)\n",
    "        # let's shuffle the letters to have random validation and training set\n",
    "        np.random.shuffle(letter_set)\n",
    "        if valid_dataset is not None:\n",
    "          valid_letter = letter_set[:vsize_per_class, :, :]\n",
    "          valid_dataset[start_v:end_v, :, :] = valid_letter\n",
    "          valid_labels[start_v:end_v] = label\n",
    "          start_v += vsize_per_class\n",
    "          end_v += vsize_per_class\n",
    "                    \n",
    "        train_letter = letter_set[vsize_per_class:end_l, :, :]\n",
    "        train_dataset[start_t:end_t, :, :] = train_letter\n",
    "        train_labels[start_t:end_t] = label\n",
    "        start_t += tsize_per_class\n",
    "        end_t += tsize_per_class\n",
    "    except Exception as e:\n",
    "      print('Unable to process data from', pickle_file, ':', e)\n",
    "      raise\n",
    "    \n",
    "  return valid_dataset, valid_labels, train_dataset, train_labels\n",
    "            \n",
    "            \n",
    "train_size = 200000\n",
    "valid_size = 10000\n",
    "test_size = 10000\n",
    "\n",
    "valid_dataset, valid_labels, train_dataset, train_labels = merge_datasets(\n",
    "  train_datasets, train_size, valid_size)\n",
    "_, _, test_dataset, test_labels = merge_datasets(test_datasets, test_size)\n",
    "\n",
    "print('Training:', train_dataset.shape, train_labels.shape)\n",
    "print('Validation:', valid_dataset.shape, valid_labels.shape)\n",
    "print('Testing:', test_dataset.shape, test_labels.shape)"
   ]
  },
  {
   "cell_type": "code",
   "execution_count": 12,
   "metadata": {
    "collapsed": true
   },
   "outputs": [],
   "source": [
    "def randomize(dataset, labels):\n",
    "  permutation = np.random.permutation(labels.shape[0])\n",
    "  shuffled_dataset = dataset[permutation,:,:]\n",
    "  shuffled_labels = labels[permutation]\n",
    "  return shuffled_dataset, shuffled_labels\n",
    "train_dataset, train_labels = randomize(train_dataset, train_labels)\n",
    "test_dataset, test_labels = randomize(test_dataset, test_labels)\n",
    "valid_dataset, valid_labels = randomize(valid_dataset, valid_labels)"
   ]
  },
  {
   "cell_type": "code",
   "execution_count": 14,
   "metadata": {},
   "outputs": [
    {
     "name": "stdout",
     "output_type": "stream",
     "text": [
      "200000 [183297  26161 171020  65335  78267]\n"
     ]
    },
    {
     "data": {
      "image/png": "[encoded data removed]",
      "text/plain": [
       "<matplotlib.figure.Figure at 0x104f3fd30>"
      ]
     },
     "metadata": {},
     "output_type": "display_data"
    }
   ],
   "source": [
    "# Task 4. Convincing that the data still smells good. (Problem 4)\n",
    "\n",
    "sample_dataset = train_dataset\n",
    "number_of_samples = 5\n",
    "\n",
    "indices = np.random.choice(sample_dataset.shape[0], number_of_samples)\n",
    "\n",
    "print(sample_dataset.shape[0], indices)\n",
    "\n",
    "i = 0\n",
    "w = 0.5\n",
    "\n",
    "fig = plt.figure()\n",
    "for index in indices:\n",
    "    label = train_datasets[train_labels[index]][15:16]\n",
    "\n",
    "    i += 1\n",
    "    \n",
    "    pos = [i*w, 1, w, w]\n",
    "    a = fig.add_axes(pos)\n",
    "\n",
    "    show_arr = sample_dataset[index, :, :]\n",
    "    #show_arr = show_arr*255 + 255/2\n",
    "    #show_arr = rgb2grey(show_arr)\n",
    "    a.imshow(show_arr)\n",
    "    \n",
    "    a.set_title(\"Label: %s, index: %s\" % (label, index))\n"
   ]
  },
  {
   "cell_type": "code",
   "execution_count": 15,
   "metadata": {
    "collapsed": true
   },
   "outputs": [],
   "source": [
    "pickle_file = 'notMNIST.pickle'\n",
    "\n",
    "try:\n",
    "  f = open(pickle_file, 'wb')\n",
    "  save = {\n",
    "    'train_dataset': train_dataset,\n",
    "    'train_labels': train_labels,\n",
    "    'valid_dataset': valid_dataset,\n",
    "    'valid_labels': valid_labels,\n",
    "    'test_dataset': test_dataset,\n",
    "    'test_labels': test_labels,\n",
    "    }\n",
    "  pickle.dump(save, f, pickle.HIGHEST_PROTOCOL)\n",
    "  f.close()\n",
    "except Exception as e:\n",
    "  print('Unable to save data to', pickle_file, ':', e)\n",
    "  raise"
   ]
  },
  {
   "cell_type": "code",
   "execution_count": 16,
   "metadata": {},
   "outputs": [
    {
     "name": "stdout",
     "output_type": "stream",
     "text": [
      "Compressed pickle size: 690800506\n"
     ]
    }
   ],
   "source": [
    "statinfo = os.stat(pickle_file)\n",
    "print('Compressed pickle size:', statinfo.st_size)"
   ]
  },
  {
   "cell_type": "code",
   "execution_count": 18,
   "metadata": {},
   "outputs": [
    {
     "name": "stderr",
     "output_type": "stream",
     "text": [
      "/usr/local/lib/python3.6/site-packages/ipykernel_launcher.py:37: DeprecationWarning: elementwise == comparison failed; this will raise an error in the future.\n",
      "/usr/local/lib/python3.6/site-packages/ipykernel_launcher.py:51: DeprecationWarning: elementwise == comparison failed; this will raise an error in the future.\n"
     ]
    },
    {
     "name": "stdout",
     "output_type": "stream",
     "text": [
      "\n",
      "Intersecting\n",
      "test_dataset(10000)  vs  train_dataset(200000)\n",
      "Size of unique overlap: 1\n",
      "test_dataset:1 => 1\n",
      "\n",
      "Intersecting\n",
      "test_dataset(10000)  vs  valid_dataset(10000)\n",
      "Size of unique overlap: 1\n",
      "test_dataset:57 => 1\n",
      "\n",
      "Intersecting\n",
      "train_dataset(200000)  vs  valid_dataset(10000)\n",
      "Size of unique overlap: 2\n",
      "train_dataset:36 => 102\n",
      "train_dataset:3495 => 2\n"
     ]
    },
    {
     "data": {
      "image/png": "[encoded data removed]",
      "text/plain": [
       "<matplotlib.figure.Figure at 0x10b23c358>"
      ]
     },
     "metadata": {},
     "output_type": "display_data"
    },
    {
     "data": {
      "image/png": "[encoded data removed]",
      "text/plain": [
       "<matplotlib.figure.Figure at 0x1142f6588>"
      ]
     },
     "metadata": {},
     "output_type": "display_data"
    },
    {
     "data": {
      "image/png": "[encoded data removed]",
      "text/plain": [
       "<matplotlib.figure.Figure at 0x10b2cbe10>"
      ]
     },
     "metadata": {},
     "output_type": "display_data"
    }
   ],
   "source": [
    "# Task 5. Measure how much overlap there is between training, validation and test samples. (Problem 5)\n",
    "\n",
    "try:\n",
    "    f = open(pickle_file, 'rb')\n",
    "    dataset_from_file = pickle.load(f)\n",
    "except Exception as e:\n",
    "    print('Error loading file:', e)\n",
    "\n",
    "names = ['train_dataset', 'valid_dataset', 'test_dataset']\n",
    "arr = {\n",
    "    names[0]:dataset_from_file[names[0]],\n",
    "    names[1]:dataset_from_file[names[1]],\n",
    "    names[2]:dataset_from_file[names[2]]\n",
    "}\n",
    "sizes = {\n",
    "    names[0]: train_size,\n",
    "    names[1]: valid_size,\n",
    "    names[2]: test_size\n",
    "}\n",
    "\n",
    "def intersect(set1, set2):\n",
    "\n",
    "    matches = {}\n",
    "    ua = []\n",
    "\n",
    "    intrsn = np.empty(shape=(0, 28, 28))\n",
    "\n",
    "    ia = np.empty(shape=(28, 28))\n",
    "    ja = np.empty(shape=(28, 28))\n",
    "\n",
    "    # now let's measure overlap between the following datasets\n",
    "    current = [set1, set2]\n",
    "    for i in range(sizes[set1]):\n",
    "        ia = arr[current[0]][i, :, :]\n",
    "\n",
    "        # check for uniqeness\n",
    "        if np.count_nonzero(ua == ia) == 0:\n",
    "\n",
    "            for j in range(sizes[set2]):\n",
    "                ja = arr[current[1]][j, :, :]\n",
    "                if np.array_equal(ia, ja):\n",
    "                    # add overlapping arrays to matches\n",
    "                    key = current[0] + ':' + str(i)\n",
    "                    value = { 'name': current[1], 'index': j }\n",
    "                    if key in matches:\n",
    "                        matches[key].append(value)\n",
    "                    else:\n",
    "                        matches[key] = [ value ]\n",
    "\n",
    "                    # add the instance to array of unique occurances\n",
    "                    if np.count_nonzero(ua == ia) == 0:\n",
    "                        ua.append( ia )\n",
    "    return matches\n",
    "    \n",
    "def visualize(set1, set2, matches):\n",
    "    i = 0\n",
    "    w = 0.5\n",
    "\n",
    "    fig = plt.figure()\n",
    "    for k, v in matches.items():\n",
    "        print(k, '=>', len(v))\n",
    "\n",
    "        if i == 5: break\n",
    "        i += 1\n",
    "\n",
    "        pos = [i*w, 1, w, w]\n",
    "        a = fig.add_axes(pos)\n",
    "\n",
    "        name, index = k.split(':')\n",
    "\n",
    "        show_arr = arr[name][int(index), :, :]\n",
    "        a.imshow(show_arr)\n",
    "        a.set_title(\"%s, index: %s\" % (name, index))\n",
    "\n",
    "        \n",
    "for pair in [[2,0], [2,1], [0,1]]:\n",
    "    sets = [names[pair[0]], names[pair[1]]]\n",
    "    matches = intersect(sets[0], sets[1])\n",
    "\n",
    "    print('')\n",
    "    print('Intersecting')\n",
    "    print('%s(%s)  vs  %s(%s)' % (sets[0], sizes[sets[0]], sets[1], sizes[sets[1]]))\n",
    "    print(\"Size of unique overlap: %s\" % (len(matches)))\n",
    "    \n",
    "    visualize(sets[0],sets[1],matches)\n",
    "    \n",
    "    "
   ]
  },
  {
   "cell_type": "markdown",
   "metadata": {},
   "source": [
    "Let's sanitaize datasets to have them as well just for comparison in subsequent assignments.\n",
    "\n",
    "First, let's filter out all duplicates in each set.\n",
    "Unfortnately I don't have enough time to process all the data given, so I'll limit datasets to first 1000 items. Also I will not store them on disk.\n",
    "\n",
    "Next, we need to remove overlapping between data sets. I've been playing around and found out that most of overlapping occur due to duplicated items within sets. Since I skipped filtering out duplicates - there's not much sense removing overlaps. So I skipp it as well.\n",
    "\n",
    "Below is the snippet to find duplicates in first 1000 items and create sanitized datasets for each of three sets."
   ]
  },
  {
   "cell_type": "code",
   "execution_count": 48,
   "metadata": {},
   "outputs": [
    {
     "name": "stdout",
     "output_type": "stream",
     "text": [
      "[577, 355, 838, 689, 786]\n",
      "[963, 964, 933, 711, 590, 911, 593, 562, 148, 597, 342, 667]\n",
      "[198, 777, 620, 268, 845, 246, 954, 223]\n"
     ]
    }
   ],
   "source": [
    "def find_duplicates(data_set):\n",
    "    dup_indices = [];\n",
    "    size = len(data_set);\n",
    "    for i, pancake1 in enumerate(data_set):\n",
    "        for j, pancake2 in enumerate(data_set[(i + 1):]):\n",
    "            if np.array_equal(pancake1, pancake2):\n",
    "                dup_indices.append(i + j + 1);\n",
    "    return list(set(dup_indices));\n",
    "\n",
    "# only first 1000 items\n",
    "temp = train_dataset[:1000];\n",
    "dup_indices = find_duplicates(temp);\n",
    "print(dup_indices);\n",
    "san_train_dataset = np.delete(temp, dup_indices, 0);\n",
    "\n",
    "# only first 1000 items\n",
    "temp = valid_dataset[:1000];\n",
    "dup_indices = find_duplicates(temp);\n",
    "print(dup_indices);\n",
    "san_valid_dataset = np.delete(temp, dup_indices, 0);\n",
    "\n",
    "# only first 1000 items\n",
    "temp = test_dataset[:1000];\n",
    "dup_indices = find_duplicates(temp);\n",
    "print(dup_indices);\n",
    "san_test_dataset = np.delete(temp, dup_indices, 0);\n"
   ]
  },
  {
   "cell_type": "code",
   "execution_count": 49,
   "metadata": {
    "collapsed": true
   },
   "outputs": [],
   "source": [
    "# Task 6. Finally we need to train a model.\n",
    "\n",
    "regr = LogisticRegression()\n",
    "\n",
    "X_test = test_dataset.reshape(test_dataset.shape[0], 28 * 28)\n",
    "y_test = test_labels\n",
    "\n",
    "TODO - finish\n",
    "def visualize_weights(data):\n",
    "    i = 0\n",
    "    w = 0.5\n",
    "\n",
    "    fig = plt.figure()\n",
    "    for index in indices:\n",
    "        label = train_datasets[train_labels[index]][15:16]\n",
    "\n",
    "        i += 1\n",
    "\n",
    "        pos = [i*w, 1, w, w]\n",
    "        a = fig.add_axes(pos)\n",
    "\n",
    "        show_arr = sample_dataset[index, :, :]\n",
    "        #show_arr = show_arr*255 + 255/2\n",
    "        #show_arr = rgb2grey(show_arr)\n",
    "        a.imshow(show_arr)\n",
    "\n",
    "        a.set_title(\"Label: %s, index: %s\" % (label, index))"
   ]
  },
  {
   "cell_type": "code",
   "execution_count": 64,
   "metadata": {},
   "outputs": [
    {
     "name": "stdout",
     "output_type": "stream",
     "text": [
      "[[-0.0227146  -0.0312934  -0.04092147 ...,  0.02848773  0.02892319\n",
      "   0.03857983]\n",
      " [ 0.0259942   0.01701404  0.01412783 ...,  0.03312615  0.03292821\n",
      "   0.03654897]\n",
      " [ 0.05004546  0.04491589  0.02339177 ...,  0.07470213  0.07636315\n",
      "   0.09712726]\n",
      " ..., \n",
      " [ 0.01351444  0.01279863 -0.00558249 ...,  0.00542939  0.00631425\n",
      "   0.02431267]\n",
      " [-0.02142475 -0.02927892  0.00166589 ...,  0.08649556  0.08452588\n",
      "   0.0552033 ]\n",
      " [-0.02110089 -0.03132882 -0.04334776 ...,  0.03778991  0.03821778\n",
      "   0.05058327]]\n",
      "[[ 0.31568629  0.5         0.49215686 ..., -0.5        -0.5        -0.5       ]\n",
      " [-0.5        -0.5        -0.5        ..., -0.5        -0.5        -0.5       ]\n",
      " [-0.5        -0.5        -0.5        ..., -0.5        -0.5        -0.5       ]\n",
      " ..., \n",
      " [-0.5        -0.49215686 -0.49215686 ..., -0.49607843 -0.49215686 -0.5       ]\n",
      " [ 0.5         0.5         0.48431373 ...,  0.48431373  0.5         0.5       ]\n",
      " [-0.5        -0.39019608  0.38627452 ...,  0.5         0.45686275\n",
      "  -0.30000001]]\n"
     ]
    }
   ],
   "source": [
    "sample_size = 10\n",
    "X_train = train_dataset[:sample_size].reshape(sample_size, 784)\n",
    "y_train = train_labels[:sample_size]\n",
    "\n",
    "regr.fit(X_train, y_train)\n",
    "regr.score(X_test, y_test)\n",
    "print(regr.coef_)\n",
    "print(X_train)"
   ]
  },
  {
   "cell_type": "code",
   "execution_count": 51,
   "metadata": {},
   "outputs": [
    {
     "ename": "NameError",
     "evalue": "name 'disp_sample_dataset' is not defined",
     "output_type": "error",
     "traceback": [
      "\u001b[0;31m---------------------------------------------------------------------------\u001b[0m",
      "\u001b[0;31mNameError\u001b[0m                                 Traceback (most recent call last)",
      "\u001b[0;32m<ipython-input-51-96d66ca36290>\u001b[0m in \u001b[0;36m<module>\u001b[0;34m()\u001b[0m\n\u001b[1;32m      1\u001b[0m \u001b[0mpred_labels\u001b[0m \u001b[0;34m=\u001b[0m \u001b[0mregr\u001b[0m\u001b[0;34m.\u001b[0m\u001b[0mpredict\u001b[0m\u001b[0;34m(\u001b[0m\u001b[0mX_test\u001b[0m\u001b[0;34m)\u001b[0m\u001b[0;34m\u001b[0m\u001b[0m\n\u001b[0;32m----> 2\u001b[0;31m \u001b[0mdisp_sample_dataset\u001b[0m\u001b[0;34m(\u001b[0m\u001b[0mtest_dataset\u001b[0m\u001b[0;34m,\u001b[0m \u001b[0mpred_labels\u001b[0m\u001b[0;34m)\u001b[0m\u001b[0;34m\u001b[0m\u001b[0m\n\u001b[0m",
      "\u001b[0;31mNameError\u001b[0m: name 'disp_sample_dataset' is not defined"
     ]
    }
   ],
   "source": [
    "pred_labels = regr.predict(X_test)\n",
    "disp_sample_dataset(test_dataset, pred_labels)"
   ]
  },
  {
   "cell_type": "code",
   "execution_count": null,
   "metadata": {
    "collapsed": true
   },
   "outputs": [],
   "source": []
  }
 ],
 "metadata": {
  "kernelspec": {
   "display_name": "Python 3",
   "language": "python",
   "name": "python3"
  },
  "language_info": {
   "codemirror_mode": {
    "name": "ipython",
    "version": 3
   },
   "file_extension": ".py",
   "mimetype": "text/x-python",
   "name": "python",
   "nbconvert_exporter": "python",
   "pygments_lexer": "ipython3",
   "version": "3.6.1"
  }
 },
 "nbformat": 4,
 "nbformat_minor": 1
}
