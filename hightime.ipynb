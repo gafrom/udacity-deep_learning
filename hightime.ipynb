{
 "cells": [
  {
   "cell_type": "markdown",
   "metadata": {
    "colab_type": "text",
    "id": "8tQJd2YSCfWR"
   },
   "source": []
  },
  {
   "cell_type": "markdown",
   "metadata": {
    "colab_type": "text",
    "id": "D7tqLMoKF6uq"
   },
   "source": [
    "HighTime - Web traffic analysis neural model\n",
    "=============\n",
    "<span style=\"color: lightsteelblue;\">Deep Learning</span>\n",
    "\n",
    "The goal of this assignment is to train a simple DNN model to make predictions over web traffic."
   ]
  },
  {
   "cell_type": "code",
   "execution_count": 1,
   "metadata": {
    "cellView": "both",
    "colab": {
     "autoexec": {
      "startup": false,
      "wait_interval": 0
     }
    },
    "colab_type": "code",
    "collapsed": true,
    "id": "MvEblsgEXxrd"
   },
   "outputs": [],
   "source": [
    "# These are all the modules we'll be using later. Make sure you can import them\n",
    "# before proceeding further.\n",
    "from __future__ import print_function\n",
    "import os\n",
    "import numpy as np\n",
    "import random\n",
    "import string\n",
    "import tensorflow as tf\n",
    "import zipfile\n",
    "from six.moves import range\n",
    "from six.moves.urllib.request import urlretrieve\n",
    "import matplotlib.pyplot as plt"
   ]
  },
  {
   "cell_type": "markdown",
   "metadata": {},
   "source": [
    "Let us mimic real traffic data by using normal distribution:"
   ]
  },
  {
   "cell_type": "code",
   "execution_count": 2,
   "metadata": {
    "cellView": "both",
    "colab": {
     "autoexec": {
      "startup": false,
      "wait_interval": 0
     },
     "output_extras": [
      {
       "item_id": 1
      }
     ]
    },
    "colab_type": "code",
    "executionInfo": {
     "elapsed": 5993,
     "status": "ok",
     "timestamp": 1445965582896,
     "user": {
      "color": "#1FA15D",
      "displayName": "Vincent Vanhoucke",
      "isAnonymous": false,
      "isMe": true,
      "permissionId": "05076109866853157986",
      "photoUrl": "//lh6.googleusercontent.com/-cCJa7dTDcgQ/AAAAAAAAAAI/AAAAAAAACgw/r2EZ_8oYer4/s50-c-k-no/photo.jpg",
      "sessionId": "6f6f07b359200c46",
      "userId": "102167687554210253930"
     },
     "user_tz": 420
    },
    "id": "RJ-o3UBUFtCw",
    "outputId": "d530534e-0791-4a94-ca6d-1c8f1b908a9e"
   },
   "outputs": [
    {
     "name": "stdout",
     "output_type": "stream",
     "text": [
      "[  9  18  21  46  96 150 187 280 331 387 470 505 487 462 430 341 268 184]\n"
     ]
    },
    {
     "data": {
      "image/png": "[encoded data removed]",
      "text/plain": [
       "<matplotlib.figure.Figure at 0x10c8b25c0>"
      ]
     },
     "metadata": {},
     "output_type": "display_data"
    }
   ],
   "source": [
    "def fake_train(batch_size=24):\n",
    "  assert batch_size > 0 and batch_size < 25\n",
    "  normal = np.random.normal(12, 4, 5000)\n",
    "  train = np.arange(batch_size)\n",
    "\n",
    "  for i in range(0, batch_size):\n",
    "    count = 0\n",
    "    for p in normal:\n",
    "      if (p >= i and p < i + 1):\n",
    "        count += 1\n",
    "    train[i] = count\n",
    "  return train\n",
    "\n",
    "example = fake_train(18)\n",
    "print(example)\n",
    "\n",
    "plt.plot(range(0, 18), example)\n",
    "plt.show()"
   ]
  },
  {
   "cell_type": "markdown",
   "metadata": {
    "colab_type": "text",
    "id": "lFwoyygOmWsL"
   },
   "source": [
    "Function to generate a training batch:"
   ]
  },
  {
   "cell_type": "code",
   "execution_count": 101,
   "metadata": {
    "cellView": "both",
    "colab": {
     "autoexec": {
      "startup": false,
      "wait_interval": 0
     },
     "output_extras": [
      {
       "item_id": 1
      }
     ]
    },
    "colab_type": "code",
    "collapsed": true,
    "executionInfo": {
     "elapsed": 6473,
     "status": "ok",
     "timestamp": 1445965583467,
     "user": {
      "color": "#1FA15D",
      "displayName": "Vincent Vanhoucke",
      "isAnonymous": false,
      "isMe": true,
      "permissionId": "05076109866853157986",
      "photoUrl": "//lh6.googleusercontent.com/-cCJa7dTDcgQ/AAAAAAAAAAI/AAAAAAAACgw/r2EZ_8oYer4/s50-c-k-no/photo.jpg",
      "sessionId": "6f6f07b359200c46",
      "userId": "102167687554210253930"
     },
     "user_tz": 420
    },
    "id": "d9wMtjy5hCj9",
    "outputId": "3dd79c80-454a-4be0-8b71-4a4a357b3367"
   },
   "outputs": [],
   "source": [
    "total_seconds = 24 * 3600\n",
    "total_rps = 1000\n",
    "\n",
    "def secs_to_time(time_in_seconds):\n",
    "  hours = time_in_seconds // 3600\n",
    "  minutes = (time_in_seconds - hours * 3600) // 60\n",
    "  seconds = time_in_seconds - hours * 3600 - minutes * 60\n",
    "  return hours, minutes, seconds\n",
    "\n",
    "def time_to_secs(hour, minutes, seconds):\n",
    "  return hour * 3600 + minutes * 60 + seconds\n",
    "\n",
    "def time_to_squashed_secs(hour, minutes, seconds):\n",
    "  return time_to_secs(hour, minutes, seconds) / total_seconds\n",
    "\n",
    "def secs_to_string(sec):\n",
    "  result = ':'.join([('%d' % i) for i in secs_to_time(sec)])\n",
    "  return result + (' (%dth second)' % sec)\n",
    "\n",
    "def squashed_secs_to_string(sq_sec):\n",
    "  return secs_to_string(sq_sec * total_seconds)\n",
    "\n",
    "def squashed_label_to_label(sq_label):\n",
    "  return sq_label * total_rps\n",
    "\n",
    "class BatchGenerator(object):\n",
    "  def __init__(self, batch_size):\n",
    "    self._batch_size = batch_size\n",
    "\n",
    "  def spit(self):\n",
    "    labels = fake_train(self._batch_size).reshape(self._batch_size, 1)\n",
    "    train = []\n",
    "\n",
    "    for hour in range(self._batch_size):\n",
    "      minutes = random.randint(0, 59)\n",
    "      seconds = random.randint(0, 59)\n",
    "      train.append(time_to_squashed_secs(hour, minutes, seconds))\n",
    "\n",
    "    return np.array(train, dtype=np.float32).reshape(self._batch_size, 1), (labels / total_rps)"
   ]
  },
  {
   "cell_type": "markdown",
   "metadata": {},
   "source": [
    "Generate valid and test datasets:"
   ]
  },
  {
   "cell_type": "code",
   "execution_count": 102,
   "metadata": {},
   "outputs": [
    {
     "name": "stdout",
     "output_type": "stream",
     "text": [
      "Time 0:58:41 (3521th second) => 9.00 rps\n",
      "Time 1:54:17 (6857th second) => 13.00 rps\n",
      "Time 2:18:15 (8295th second) => 27.00 rps\n",
      "Time 3:25:14 (12314th second) => 60.00 rps\n",
      "Time 4:56:33 (17793th second) => 86.00 rps\n",
      "Time 5:53:24 (21204th second) => 109.00 rps\n",
      "Time 6:17:42 (22662th second) => 175.00 rps\n",
      "Time 7:0:2 (25202th second) => 291.00 rps\n",
      "Time 8:43:29 (31409th second) => 332.00 rps\n",
      "Time 9:24:17 (33857th second) => 413.00 rps\n",
      "Time 10:22:57 (37377th second) => 497.00 rps\n",
      "Time 11:52:25 (42745th second) => 439.00 rps\n",
      "Time 12:16:42 (44202th second) => 495.00 rps\n",
      "Time 13:28:47 (48527th second) => 513.00 rps\n",
      "Time 14:11:29 (51089th second) => 385.00 rps\n",
      "Time 15:30:42 (55842th second) => 346.00 rps\n",
      "Time 16:11:37 (58297th second) => 268.00 rps\n",
      "Time 17:6:47 (61607th second) => 186.00 rps\n",
      "Time 18:22:31 (66151th second) => 138.00 rps\n",
      "Time 19:53:54 (71634th second) => 96.00 rps\n",
      "Time 20:32:24 (73944th second) => 56.00 rps\n",
      "Time 21:58:10 (79090th second) => 28.00 rps\n",
      "Time 22:58:50 (82730th second) => 16.00 rps\n",
      "Time 23:58:2 (86282th second) => 8.00 rps\n"
     ]
    }
   ],
   "source": [
    "generator = BatchGenerator(24)\n",
    "\n",
    "test_dataset, test_labels = generator.spit()\n",
    "\n",
    "# print(test_dataset)\n",
    "# print(test_labels)\n",
    "\n",
    "for sec, label in list(zip(test_dataset, test_labels)):\n",
    "  print('Time %s => %03.2f rps' % (squashed_secs_to_string(sec), squashed_label_to_label(label)))"
   ]
  },
  {
   "cell_type": "markdown",
   "metadata": {
    "colab_type": "text",
    "id": "K8f67YXaDr4C"
   },
   "source": [
    "Simple NN Model with one hidden layer and hyperbolic tangent activation function."
   ]
  },
  {
   "cell_type": "code",
   "execution_count": 161,
   "metadata": {
    "cellView": "both",
    "colab": {
     "autoexec": {
      "startup": false,
      "wait_interval": 0
     }
    },
    "colab_type": "code",
    "id": "Q5rxZK6RDuGe"
   },
   "outputs": [],
   "source": [
    "feature_size = 1 # number of features to feed input\n",
    "num_labels = 1 # number of output labels\n",
    "num_hidden_nodes = 2\n",
    "batch_size = 24\n",
    "learning_rate = 0.05\n",
    "\n",
    "graph = tf.Graph()\n",
    "with graph.as_default():\n",
    "  # Input data. For the training data, we use a placeholder that will be fed\n",
    "  # at run time with a training minibatch.\n",
    "  X = tf.placeholder(tf.float32, shape=(batch_size, feature_size))\n",
    "  Y = tf.placeholder(tf.float32, shape=(batch_size, 1))\n",
    "\n",
    "  tf_test_dataset = tf.constant(test_dataset)\n",
    "  predict_data = tf.placeholder(tf.float32, shape=(1, feature_size))\n",
    "\n",
    "  # Hidden layer variables\n",
    "  weights1 = tf.Variable(tf.ones([feature_size, num_hidden_nodes]))\n",
    "  biases1 = tf.Variable(tf.zeros([num_hidden_nodes]))\n",
    "\n",
    "  # Variables.\n",
    "  weights2 = tf.Variable(tf.ones([num_hidden_nodes, num_labels]))\n",
    "  biases2 = tf.Variable(tf.zeros([num_labels]))\n",
    "\n",
    "  # Training computation.\n",
    "  o = tf.matmul(X, weights1) + biases1\n",
    "  hidden_layer = tf.tan(o)\n",
    "\n",
    "  y = tf.matmul(hidden_layer, weights2) + biases2\n",
    "  error = y - Y\n",
    "  sq_error = tf.square(error)\n",
    "  loss = tf.reduce_mean(sq_error)\n",
    "\n",
    "  # Optimizer.\n",
    "  optimizer = tf.train.GradientDescentOptimizer(learning_rate).minimize(loss)\n",
    "\n",
    "  # Predictions for the training, test and real data.\n",
    "#   train_prediction = y\n",
    "#   test_prediction_hidden = tf.nn.sigmoid(tf.matmul(tf_test_dataset, weights1) + biases1)\n",
    "#   test_prediction = tf.matmul(test_prediction_hidden, weights2) + biases2\n",
    "  prediction_hidden = tf.tan(tf.matmul(predict_data, weights1) + biases1)\n",
    "  prediction = tf.matmul(prediction_hidden, weights2) + biases2"
   ]
  },
  {
   "cell_type": "code",
   "execution_count": 79,
   "metadata": {},
   "outputs": [
    {
     "name": "stdout",
     "output_type": "stream",
     "text": [
      "[ 0.759  0.371  0.238 -0.186]\n",
      "[ 0.681  0.592  0.559  0.454]\n"
     ]
    }
   ],
   "source": [
    "a = np.array([0.759, 0.371, 0.2378, -0.1861], np.float32)\n",
    "print(a)\n",
    "\n",
    "sigma = tf.nn.sigmoid(a).eval(session=tf.Session())\n",
    "print(sigma)"
   ]
  },
  {
   "cell_type": "code",
   "execution_count": 163,
   "metadata": {},
   "outputs": [
    {
     "name": "stdout",
     "output_type": "stream",
     "text": [
      "Initialized\n",
      "Minibatch loss at step 0: 1.806150\n",
      "w2: [[ 0.902]\n",
      " [ 0.902]]\n",
      "Minibatch loss at step 10: 0.168694\n",
      "w2: [[ 0.808]\n",
      " [ 0.808]]\n",
      "Minibatch loss at step 20: 0.122918\n",
      "w2: [[ 0.749]\n",
      " [ 0.749]]\n",
      "Minibatch loss at step 30: 0.093781\n",
      "w2: [[ 0.703]\n",
      " [ 0.703]]\n",
      "Minibatch loss at step 40: 0.080726\n",
      "w2: [[ 0.667]\n",
      " [ 0.667]]\n",
      "Minibatch loss at step 50: 0.070243\n",
      "w2: [[ 0.637]\n",
      " [ 0.637]]\n",
      "Minibatch loss at step 60: 0.060039\n",
      "w2: [[ 0.613]\n",
      " [ 0.613]]\n",
      "Minibatch loss at step 70: 0.055923\n",
      "w2: [[ 0.591]\n",
      " [ 0.591]]\n",
      "Minibatch loss at step 80: 0.054337\n",
      "w2: [[ 0.573]\n",
      " [ 0.573]]\n",
      "Minibatch loss at step 90: 0.047169\n",
      "w2: [[ 0.557]\n",
      " [ 0.557]]\n",
      "Minibatch loss at step 100: 0.045073\n",
      "w2: [[ 0.543]\n",
      " [ 0.543]]\n",
      "Minibatch loss at step 110: 0.042375\n",
      "w2: [[ 0.530]\n",
      " [ 0.530]]\n",
      "Minibatch loss at step 120: 0.042189\n",
      "w2: [[ 0.519]\n",
      " [ 0.519]]\n",
      "Minibatch loss at step 130: 0.039572\n",
      "w2: [[ 0.509]\n",
      " [ 0.509]]\n",
      "Minibatch loss at step 140: 0.038591\n",
      "w2: [[ 0.500]\n",
      " [ 0.500]]\n",
      "Minibatch loss at step 150: 0.036589\n",
      "w2: [[ 0.491]\n",
      " [ 0.491]]\n",
      "Minibatch loss at step 160: 0.037587\n",
      "w2: [[ 0.484]\n",
      " [ 0.484]]\n",
      "Minibatch loss at step 170: 0.037153\n",
      "w2: [[ 0.477]\n",
      " [ 0.477]]\n",
      "Minibatch loss at step 180: 0.036728\n",
      "w2: [[ 0.471]\n",
      " [ 0.471]]\n",
      "Minibatch loss at step 190: 0.036014\n",
      "w2: [[ 0.465]\n",
      " [ 0.465]]\n",
      "Minibatch loss at step 200: 0.036187\n",
      "w2: [[ 0.459]\n",
      " [ 0.459]]\n",
      "Minibatch loss at step 210: 0.035673\n",
      "w2: [[ 0.455]\n",
      " [ 0.455]]\n",
      "Minibatch loss at step 220: 0.034833\n",
      "w2: [[ 0.450]\n",
      " [ 0.450]]\n",
      "Minibatch loss at step 230: 0.034381\n",
      "w2: [[ 0.446]\n",
      " [ 0.446]]\n",
      "Minibatch loss at step 240: 0.034321\n",
      "w2: [[ 0.442]\n",
      " [ 0.442]]\n",
      "Minibatch loss at step 250: 0.032797\n",
      "w2: [[ 0.438]\n",
      " [ 0.438]]\n",
      "Minibatch loss at step 260: 0.032905\n",
      "w2: [[ 0.434]\n",
      " [ 0.434]]\n",
      "Minibatch loss at step 270: 0.034454\n",
      "w2: [[ 0.431]\n",
      " [ 0.431]]\n",
      "Minibatch loss at step 280: 0.032531\n",
      "w2: [[ 0.428]\n",
      " [ 0.428]]\n",
      "Minibatch loss at step 290: 0.034638\n",
      "w2: [[ 0.425]\n",
      " [ 0.425]]\n",
      "Minibatch loss at step 300: 0.033533\n",
      "w2: [[ 0.422]\n",
      " [ 0.422]]\n",
      "Minibatch loss at step 310: 0.033916\n",
      "w2: [[ 0.420]\n",
      " [ 0.420]]\n"
     ]
    }
   ],
   "source": [
    "num_steps = 311\n",
    "generator = BatchGenerator(batch_size)\n",
    "\n",
    "def accuracy(predictions, labels):\n",
    "  return (100.0 * np.sum(np.argmax(predictions, 1) == np.argmax(labels))\n",
    "          / predictions.shape[0])\n",
    "\n",
    "session = tf.Session(graph=graph)\n",
    "\n",
    "with graph.as_default():\n",
    "  with session.as_default():\n",
    "    tf.global_variables_initializer().run()\n",
    "    print(\"Initialized\")\n",
    "    for step in range(num_steps):\n",
    "      batch_data, batch_labels = generator.spit()\n",
    "      feed_dict = {X : batch_data, Y : batch_labels}\n",
    "      _, l, w2e = session.run(\n",
    "        [optimizer, loss, weights2], feed_dict=feed_dict)\n",
    "      if (step % 10 == 0):\n",
    "        print(\"Minibatch loss at step %d: %f\" % (step, l))\n",
    "#         print(\"output: %s\" % (oe))\n",
    "#         print(\"hidden layer %s\" % (hl))\n",
    "#         print(\"X: %s\" % (Xe))\n",
    "#         print(\"Y: %s\" % (Ye))\n",
    "#         print(\"w1: %s\" % (w1e))\n",
    "#         print(\"bias1: %s\" % (b1e))\n",
    "#         print(\"y: %s\" % (ye))\n",
    "        print(\"w2: %s\" % (w2e))\n",
    "#         print(\"bias2: %s\" % (b2e))\n",
    "#         print(\"error: %s\" % (ee))\n",
    "#         print(\"squared error: %s\" % (see))\n",
    "\n",
    "  #         print(\"Minibatch accuracy: %.1f%%\" % accuracy(predictions, batch_labels))\n",
    "    #       print(\"Validation accuracy: %.1f%%\" % accuracy(\n",
    "    #         valid_prediction.eval(), valid_labels))\n",
    "  #         print(\"Test accuracy: %.1f%%\" % accuracy(test_prediction.eval(), test_labels))"
   ]
  },
  {
   "cell_type": "code",
   "execution_count": 168,
   "metadata": {},
   "outputs": [
    {
     "name": "stdout",
     "output_type": "stream",
     "text": [
      "We want to predict rps at 1:0:0 (3600th second)\n",
      "[[ 134.804]]\n"
     ]
    }
   ],
   "source": [
    "to_predict = time_to_squashed_secs(1, 0, 0)\n",
    "print('We want to predict rps at %s' % squashed_secs_to_string(to_predict))\n",
    "data_to_predict = np.array([to_predict]).reshape(1, feature_size)\n",
    "\n",
    "with session.as_default():\n",
    "  predicted = prediction.eval(feed_dict={predict_data : data_to_predict})\n",
    "  print(squashed_label_to_label(predicted))\n",
    "#   print(weights1.eval())\n",
    "#   print(biases1.eval())"
   ]
  },
  {
   "cell_type": "code",
   "execution_count": 112,
   "metadata": {
    "cellView": "both",
    "colab": {
     "autoexec": {
      "startup": false,
      "wait_interval": 0
     },
     "output_extras": [
      {
       "item_id": 41
      },
      {
       "item_id": 80
      },
      {
       "item_id": 126
      },
      {
       "item_id": 144
      }
     ]
    },
    "colab_type": "code",
    "executionInfo": {
     "elapsed": 199909,
     "status": "ok",
     "timestamp": 1445965877333,
     "user": {
      "color": "#1FA15D",
      "displayName": "Vincent Vanhoucke",
      "isAnonymous": false,
      "isMe": true,
      "permissionId": "05076109866853157986",
      "photoUrl": "//lh6.googleusercontent.com/-cCJa7dTDcgQ/AAAAAAAAAAI/AAAAAAAACgw/r2EZ_8oYer4/s50-c-k-no/photo.jpg",
      "sessionId": "6f6f07b359200c46",
      "userId": "102167687554210253930"
     },
     "user_tz": 420
    },
    "id": "RD9zQCZTEaEm",
    "outputId": "5e868466-2532-4545-ce35-b403cf5d9de6"
   },
   "outputs": [
    {
     "name": "stdout",
     "output_type": "stream",
     "text": [
      "Initialized\n",
      "Minibatch loss at step 0: 0.003011\n",
      "Minibatch loss at step 10: 0.002587\n",
      "Minibatch loss at step 20: 0.002387\n",
      "Minibatch loss at step 30: 0.003445\n"
     ]
    }
   ],
   "source": [
    "num_steps = 31\n",
    "generator = BatchGenerator(24)\n",
    "\n",
    "def accuracy(predictions, labels):\n",
    "  return (100.0 * np.sum(np.argmax(predictions, 1) == np.argmax(labels))\n",
    "          / predictions.shape[0])\n",
    "\n",
    "session = tf.Session(graph=graph)\n",
    "\n",
    "with graph.as_default():\n",
    "  with session.as_default():\n",
    "    tf.global_variables_initializer().run()\n",
    "    print(\"Initialized\")\n",
    "    for step in range(num_steps):\n",
    "      for batch in np.array(generator.spit()).reshape(2, 24).T:\n",
    "#         np.set_printoptions(formatter={'float': '{: 0.3f}'.format})\n",
    "#         print(batch)\n",
    "\n",
    "        batch_data, batch_labels = np.array(batch).reshape(2, 1, 1)\n",
    "  #       batch_data, batch_labels = generator.spit()\n",
    "\n",
    "#         print(batch.reshape(2, 24))\n",
    "#         print(batch_data.shape, batch_labels.shape)\n",
    "        # Prepare a dictionary telling the session where to feed the minibatch.\n",
    "        # The key of the dictionary is the placeholder node of the graph to be fed,\n",
    "        # and the value is the numpy array to feed to it.\n",
    "        feed_dict = {X : batch_data, Y : batch_labels}\n",
    "        _, l = session.run(\n",
    "          [optimizer, loss], feed_dict=feed_dict)\n",
    "      if (step % 10 == 0):\n",
    "        print(\"Minibatch loss at step %d: %f\" % (step, l))\n",
    "#         print(\"output: %s\" % (oe))\n",
    "#         print(\"hidden layer %s\" % (hl))\n",
    "#         print(\"X: %s\" % (Xe))\n",
    "#         print(\"Y: %s\" % (Ye))\n",
    "#         print(\"w1: %s\" % (w1e))\n",
    "#         print(\"bias1: %s\" % (b1e))\n",
    "#         print(\"y: %s\" % (ye))\n",
    "#         print(\"w2: %s\" % (w2e))\n",
    "#         print(\"bias2: %s\" % (b2e))\n",
    "#         print(\"error: %s\" % (ee))\n",
    "#         print(\"squared error: %s\" % (see))\n",
    "\n",
    "  #         print(\"Minibatch accuracy: %.1f%%\" % accuracy(predictions, batch_labels))\n",
    "    #       print(\"Validation accuracy: %.1f%%\" % accuracy(\n",
    "    #         valid_prediction.eval(), valid_labels))\n",
    "  #         print(\"Test accuracy: %.1f%%\" % accuracy(test_prediction.eval(), test_labels))"
   ]
  },
  {
   "cell_type": "markdown",
   "metadata": {
    "collapsed": true
   },
   "source": [
    "Let us check it out"
   ]
  },
  {
   "cell_type": "code",
   "execution_count": 117,
   "metadata": {},
   "outputs": [
    {
     "name": "stdout",
     "output_type": "stream",
     "text": [
      "We want to predict rps at 1:0:0 (3600th second)\n",
      "[[ 336.656]]\n"
     ]
    }
   ],
   "source": [
    "to_predict = time_to_squashed_secs(1, 0, 0)\n",
    "print('We want to predict rps at %s' % squashed_secs_to_string(to_predict))\n",
    "data_to_predict = np.array([to_predict]).reshape(1, feature_size)\n",
    "\n",
    "with session.as_default():\n",
    "  predicted = prediction.eval(feed_dict={predict_data : data_to_predict})\n",
    "  print(squashed_label_to_label(predicted))\n",
    "#   print(weights1.eval())\n",
    "#   print(biases1.eval())"
   ]
  },
  {
   "cell_type": "code",
   "execution_count": null,
   "metadata": {
    "collapsed": true
   },
   "outputs": [],
   "source": []
  }
 ],
 "metadata": {
  "colab": {
   "default_view": {},
   "name": "6_lstm.ipynb",
   "provenance": [],
   "version": "0.3.2",
   "views": {}
  },
  "kernelspec": {
   "display_name": "Python 3",
   "language": "python",
   "name": "python3"
  },
  "language_info": {
   "codemirror_mode": {
    "name": "ipython",
    "version": 3
   },
   "file_extension": ".py",
   "mimetype": "text/x-python",
   "name": "python",
   "nbconvert_exporter": "python",
   "pygments_lexer": "ipython3",
   "version": "3.6.1"
  }
 },
 "nbformat": 4,
 "nbformat_minor": 1
}
