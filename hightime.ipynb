{
 "cells": [
  {
   "cell_type": "markdown",
   "metadata": {
    "colab_type": "text",
    "id": "8tQJd2YSCfWR"
   },
   "source": []
  },
  {
   "cell_type": "markdown",
   "metadata": {
    "colab_type": "text",
    "id": "D7tqLMoKF6uq"
   },
   "source": [
    "HighTime - Web traffic analysis neural model\n",
    "=============\n",
    "<span style=\"color: lightsteelblue;\">Deep Learning</span>\n",
    "\n",
    "The goal of this assignment is to train a simple DNN model to make predictions over web traffic."
   ]
  },
  {
   "cell_type": "code",
   "execution_count": 1,
   "metadata": {
    "cellView": "both",
    "colab": {
     "autoexec": {
      "startup": false,
      "wait_interval": 0
     }
    },
    "colab_type": "code",
    "collapsed": true,
    "id": "MvEblsgEXxrd"
   },
   "outputs": [],
   "source": [
    "# These are all the modules we'll be using later. Make sure you can import them\n",
    "# before proceeding further.\n",
    "from __future__ import print_function\n",
    "import os\n",
    "import numpy as np\n",
    "import random\n",
    "import string\n",
    "import tensorflow as tf\n",
    "import zipfile\n",
    "from six.moves import range\n",
    "from six.moves.urllib.request import urlretrieve\n",
    "import matplotlib.pyplot as plt"
   ]
  },
  {
   "cell_type": "markdown",
   "metadata": {},
   "source": [
    "Let us mimic real traffic data by using normal distribution:"
   ]
  },
  {
   "cell_type": "code",
   "execution_count": 2,
   "metadata": {
    "cellView": "both",
    "colab": {
     "autoexec": {
      "startup": false,
      "wait_interval": 0
     },
     "output_extras": [
      {
       "item_id": 1
      }
     ]
    },
    "colab_type": "code",
    "executionInfo": {
     "elapsed": 5993,
     "status": "ok",
     "timestamp": 1445965582896,
     "user": {
      "color": "#1FA15D",
      "displayName": "Vincent Vanhoucke",
      "isAnonymous": false,
      "isMe": true,
      "permissionId": "05076109866853157986",
      "photoUrl": "//lh6.googleusercontent.com/-cCJa7dTDcgQ/AAAAAAAAAAI/AAAAAAAACgw/r2EZ_8oYer4/s50-c-k-no/photo.jpg",
      "sessionId": "6f6f07b359200c46",
      "userId": "102167687554210253930"
     },
     "user_tz": 420
    },
    "id": "RJ-o3UBUFtCw",
    "outputId": "d530534e-0791-4a94-ca6d-1c8f1b908a9e"
   },
   "outputs": [
    {
     "data": {
      "image/png": "[encoded data removed]",
      "text/plain": [
       "<matplotlib.figure.Figure at 0x117f54c88>"
      ]
     },
     "metadata": {},
     "output_type": "display_data"
    }
   ],
   "source": [
    "total_seconds = 24 * 3600\n",
    "total_rps = 1000\n",
    "\n",
    "def gaussian(x, mu = 0, sig = 1):\n",
    "    return np.exp(-np.power(x - mu, 2.) / (2 * np.power(sig, 2.)))\n",
    "\n",
    "def rps(x):\n",
    "  return (gaussian(x, total_seconds/2, 12000) * 5 - gaussian(x, total_seconds/2, 10000) * 4 ) * 500 + 50\n",
    "\n",
    "def fake_train(batch_size=100):\n",
    "  x = np.linspace(0, total_seconds, batch_size)\n",
    "  return x, rps(x)\n",
    "\n",
    "x = np.linspace(0, total_seconds, 120)\n",
    "plt.plot(x, rps(x))\n",
    "plt.scatter(fake_train(18)[0], fake_train(18)[1], color='red')\n",
    "plt.show()"
   ]
  },
  {
   "cell_type": "markdown",
   "metadata": {
    "colab_type": "text",
    "id": "lFwoyygOmWsL"
   },
   "source": [
    "Function to generate a training batch:"
   ]
  },
  {
   "cell_type": "code",
   "execution_count": 3,
   "metadata": {
    "cellView": "both",
    "colab": {
     "autoexec": {
      "startup": false,
      "wait_interval": 0
     },
     "output_extras": [
      {
       "item_id": 1
      }
     ]
    },
    "colab_type": "code",
    "collapsed": true,
    "executionInfo": {
     "elapsed": 6473,
     "status": "ok",
     "timestamp": 1445965583467,
     "user": {
      "color": "#1FA15D",
      "displayName": "Vincent Vanhoucke",
      "isAnonymous": false,
      "isMe": true,
      "permissionId": "05076109866853157986",
      "photoUrl": "//lh6.googleusercontent.com/-cCJa7dTDcgQ/AAAAAAAAAAI/AAAAAAAACgw/r2EZ_8oYer4/s50-c-k-no/photo.jpg",
      "sessionId": "6f6f07b359200c46",
      "userId": "102167687554210253930"
     },
     "user_tz": 420
    },
    "id": "d9wMtjy5hCj9",
    "outputId": "3dd79c80-454a-4be0-8b71-4a4a357b3367"
   },
   "outputs": [],
   "source": [
    "def secs_to_time(time_in_seconds):\n",
    "  hours = time_in_seconds // 3600\n",
    "  minutes = (time_in_seconds - hours * 3600) // 60\n",
    "  seconds = time_in_seconds - hours * 3600 - minutes * 60\n",
    "  return hours, minutes, seconds\n",
    "\n",
    "def time_to_secs(hour, minutes, seconds):\n",
    "  return hour * 3600 + minutes * 60 + seconds\n",
    "\n",
    "def time_to_squashed_secs(hour, minutes, seconds):\n",
    "  return time_to_secs(hour, minutes, seconds) / total_seconds\n",
    "\n",
    "def secs_to_string(sec):\n",
    "  result = ':'.join([('%d' % i) for i in secs_to_time(sec)])\n",
    "  return result + (' (%dth second)' % sec)\n",
    "\n",
    "def squashed_secs_to_string(sq_sec):\n",
    "  return secs_to_string(sq_sec * total_seconds / 10)\n",
    "\n",
    "def squashed_secs_to_hours(sq_secs):\n",
    "  return [sq_sec * 24 for sq_sec in sq_secs]\n",
    "\n",
    "def squashed_label_to_label(sq_label):\n",
    "  return sq_label * total_rps\n",
    "\n",
    "def squashed_labels_to_labels(sq_labels):\n",
    "  return [sq_label * total_rps for sq_label in sq_labels]\n",
    "\n",
    "class BatchGenerator(object):\n",
    "  def __init__(self, batch_size):\n",
    "    self._batch_size = batch_size\n",
    "\n",
    "  def spit(self):\n",
    "    dataset = np.random.uniform(0, total_seconds, self._batch_size)\n",
    "    labels  = rps(dataset)\n",
    "\n",
    "    dataset = (10 * dataset / total_seconds).reshape(self._batch_size, 1)\n",
    "    labels  = (labels  / total_rps    ).reshape(self._batch_size, 1)\n",
    "\n",
    "    return dataset, labels"
   ]
  },
  {
   "cell_type": "markdown",
   "metadata": {},
   "source": [
    "Let us ensure that Generator spits evenly:"
   ]
  },
  {
   "cell_type": "code",
   "execution_count": 67,
   "metadata": {},
   "outputs": [
    {
     "data": {
      "image/png": "[encoded data removed]",
      "text/plain": [
       "<matplotlib.figure.Figure at 0x118a896a0>"
      ]
     },
     "metadata": {},
     "output_type": "display_data"
    }
   ],
   "source": [
    "generator = BatchGenerator(20)\n",
    "\n",
    "figg = plt.figure()\n",
    "sp = figg.add_subplot(111)\n",
    "\n",
    "for i in range(10):\n",
    "  x, y = generator.spit()\n",
    "\n",
    "  sp.scatter(x, y)\n",
    "plt.show()"
   ]
  },
  {
   "cell_type": "markdown",
   "metadata": {},
   "source": [
    "Generate valid and test datasets:"
   ]
  },
  {
   "cell_type": "code",
   "execution_count": 4,
   "metadata": {},
   "outputs": [
    {
     "name": "stdout",
     "output_type": "stream",
     "text": [
      "Test size: %s (120, 1)\n",
      "Ten test pairs as an example:\n",
      "Time 0:7:23 (443th second) => 54.16 rps\n",
      "Time 0:13:47 (827th second) => 54.65 rps\n",
      "Time 0:19:24 (1164th second) => 55.12 rps\n",
      "Time 0:26:12 (1572th second) => 55.75 rps\n",
      "Time 0:30:1 (1801th second) => 56.13 rps\n",
      "Time 0:42:29 (2549th second) => 57.54 rps\n",
      "Time 0:49:47 (2987th second) => 58.49 rps\n",
      "Time 1:5:18 (3918th second) => 60.89 rps\n",
      "Time 1:16:17 (4577th second) => 62.92 rps\n",
      "Time 1:53:37 (6817th second) => 72.56 rps\n"
     ]
    },
    {
     "data": {
      "image/png": "[encoded data removed]",
      "text/plain": [
       "<matplotlib.figure.Figure at 0x117f54ba8>"
      ]
     },
     "metadata": {},
     "output_type": "display_data"
    }
   ],
   "source": [
    "# Test dataset\n",
    "test_dataset, test_labels = generator.spit()\n",
    "# sort it for a nice view\n",
    "sorting = np.array([test_dataset, test_labels]).reshape(2, -1).T\n",
    "sorting = sorting[np.argsort(sorting[:, 0])]\n",
    "test_dataset, test_labels = sorting.T.reshape(2, -1, 1)\n",
    "\n",
    "print('Test size: %s', test_dataset.shape)\n",
    "print('Ten test pairs as an example:')\n",
    "\n",
    "for sec, label in list(zip(test_dataset, test_labels))[:10]:\n",
    "  print('Time %s => %03.2f rps' % (squashed_secs_to_string(sec), squashed_label_to_label(label)))\n",
    "  \n",
    "plt.scatter(test_dataset, test_labels)\n",
    "plt.show()"
   ]
  },
  {
   "cell_type": "markdown",
   "metadata": {
    "colab_type": "text",
    "id": "K8f67YXaDr4C"
   },
   "source": [
    "Simple NN Model with one hidden layer and ReLU activation function."
   ]
  },
  {
   "cell_type": "code",
   "execution_count": 60,
   "metadata": {
    "cellView": "both",
    "colab": {
     "autoexec": {
      "startup": false,
      "wait_interval": 0
     }
    },
    "colab_type": "code",
    "collapsed": true,
    "id": "Q5rxZK6RDuGe"
   },
   "outputs": [],
   "source": [
    "feature_size = 1 # number of features to feed input\n",
    "num_labels = 1 # number of output labels\n",
    "num_hidden_nodes = 8\n",
    "num_hidden_nodes2 = 16\n",
    "num_hidden_nodes3 = 8\n",
    "batch_size = 100\n",
    "\n",
    "graph = tf.Graph()\n",
    "with graph.as_default():\n",
    "  # Input data. For the training data, we use a placeholder that will be fed\n",
    "  # at run time with a training minibatch.\n",
    "  x = tf.placeholder(tf.float32, shape=(batch_size, feature_size))\n",
    "  y = tf.placeholder(tf.float32, shape=(batch_size, 1))\n",
    "  tf_test_data = tf.placeholder(tf.float32, shape=(None, feature_size))\n",
    "\n",
    "  # Hidden layer variables\n",
    "  weights1 = tf.Variable(tf.truncated_normal([feature_size, num_hidden_nodes]))\n",
    "  biases1  = tf.Variable(tf.zeros([num_hidden_nodes]))\n",
    "\n",
    "  weights2 = tf.Variable(tf.truncated_normal([num_hidden_nodes, num_hidden_nodes2]))\n",
    "  biases2  = tf.Variable(tf.zeros([num_hidden_nodes2]))\n",
    "  \n",
    "  weights3 = tf.Variable(tf.truncated_normal([num_hidden_nodes2, num_hidden_nodes3]))\n",
    "  biases3  = tf.Variable(tf.zeros([num_hidden_nodes3]))\n",
    "\n",
    "  # Variables.\n",
    "  weights4 = tf.Variable(tf.truncated_normal([num_hidden_nodes3, num_labels]))\n",
    "  biases4  = tf.Variable(tf.zeros([num_labels]))\n",
    "  tf_global_step = tf.Variable(0)  # count the number of steps taken\n",
    "\n",
    "  # Training computation.\n",
    "  z0 = tf.matmul(x, weights1) + biases1\n",
    "  a0 = tf.nn.sigmoid(z0)\n",
    "  \n",
    "  z1 = tf.matmul(a0, weights2) + biases2\n",
    "  a1 = tf.nn.sigmoid(z1)\n",
    "  \n",
    "  z2 = tf.matmul(a1, weights3) + biases3\n",
    "  a2 = tf.nn.sigmoid(z2)\n",
    "\n",
    "  z3 = tf.matmul(a2, weights4) + biases4\n",
    "  a3 = z3\n",
    "  error = a3 - y\n",
    "  loss = tf.reduce_mean(tf.square(error))\n",
    "\n",
    "  # Optimizer.\n",
    "  learning_rate = tf.train.exponential_decay(0.5, tf_global_step, 7000, 0.98, staircase=True)\n",
    "  optimizer = tf.train.GradientDescentOptimizer(learning_rate).minimize(loss, global_step=tf_global_step)\n",
    "\n",
    "  # Prediction for test data.\n",
    "  tf_prediction_hidden = tf.nn.sigmoid(tf.matmul(tf_test_data, weights1) + biases1)\n",
    "  tf_prediction_hidden2 = tf.nn.sigmoid(tf.matmul(tf_prediction_hidden, weights2) + biases2)\n",
    "  tf_prediction_hidden3 = tf.nn.sigmoid(tf.matmul(tf_prediction_hidden2, weights3) + biases3)\n",
    "  tf_prediction        = tf.matmul(tf_prediction_hidden3, weights4) + biases4"
   ]
  },
  {
   "cell_type": "code",
   "execution_count": 61,
   "metadata": {},
   "outputs": [
    {
     "name": "stdout",
     "output_type": "stream",
     "text": [
      "Initialized\n",
      "Minibatch loss at step 1: 1.650612, learning rate: 0.500000\n",
      "Minibatch loss at step 1001: 0.023338, learning rate: 0.500000\n",
      "Minibatch loss at step 2001: 0.016084, learning rate: 0.500000\n",
      "Minibatch loss at step 3001: 0.016544, learning rate: 0.500000\n",
      "Minibatch loss at step 4001: 0.010330, learning rate: 0.500000\n",
      "Minibatch loss at step 5001: 0.004964, learning rate: 0.500000\n",
      "Minibatch loss at step 6001: 0.003880, learning rate: 0.500000\n",
      "Minibatch loss at step 7001: 0.001471, learning rate: 0.490000\n",
      "Minibatch loss at step 8001: 0.001206, learning rate: 0.490000\n",
      "Minibatch loss at step 9001: 0.001133, learning rate: 0.490000\n",
      "Minibatch loss at step 10001: 0.001214, learning rate: 0.490000\n",
      "Minibatch loss at step 11001: 0.001114, learning rate: 0.490000\n",
      "Minibatch loss at step 12001: 0.001061, learning rate: 0.490000\n",
      "Minibatch loss at step 13001: 0.001044, learning rate: 0.490000\n",
      "Minibatch loss at step 14001: 0.001201, learning rate: 0.480200\n",
      "Minibatch loss at step 15001: 0.001029, learning rate: 0.480200\n",
      "Minibatch loss at step 16001: 0.001544, learning rate: 0.480200\n",
      "Minibatch loss at step 17001: 0.000999, learning rate: 0.480200\n",
      "Minibatch loss at step 18001: 0.001041, learning rate: 0.480200\n",
      "Minibatch loss at step 19001: 0.000806, learning rate: 0.480200\n",
      "Minibatch loss at step 20001: 0.000884, learning rate: 0.480200\n",
      "Minibatch loss at step 21001: 0.000841, learning rate: 0.470596\n",
      "Minibatch loss at step 22001: 0.000689, learning rate: 0.470596\n",
      "Minibatch loss at step 23001: 0.000865, learning rate: 0.470596\n",
      "Minibatch loss at step 24001: 0.000769, learning rate: 0.470596\n",
      "Minibatch loss at step 25001: 0.000920, learning rate: 0.470596\n",
      "Minibatch loss at step 26001: 0.000698, learning rate: 0.470596\n",
      "Minibatch loss at step 27001: 0.000574, learning rate: 0.470596\n",
      "Minibatch loss at step 28001: 0.000633, learning rate: 0.461184\n",
      "Minibatch loss at step 29001: 0.000532, learning rate: 0.461184\n",
      "Minibatch loss at step 30001: 0.000568, learning rate: 0.461184\n",
      "Minibatch loss at step 31001: 0.000510, learning rate: 0.461184\n",
      "Minibatch loss at step 32001: 0.000508, learning rate: 0.461184\n",
      "Minibatch loss at step 33001: 0.000394, learning rate: 0.461184\n",
      "Minibatch loss at step 34001: 0.000672, learning rate: 0.461184\n",
      "Minibatch loss at step 35001: 0.000498, learning rate: 0.451960\n",
      "Minibatch loss at step 36001: 0.000466, learning rate: 0.451960\n",
      "Minibatch loss at step 37001: 0.000374, learning rate: 0.451960\n",
      "Minibatch loss at step 38001: 0.000410, learning rate: 0.451960\n",
      "Minibatch loss at step 39001: 0.000382, learning rate: 0.451960\n",
      "Minibatch loss at step 40001: 0.000345, learning rate: 0.451960\n",
      "Minibatch loss at step 41001: 0.000239, learning rate: 0.451960\n",
      "Minibatch loss at step 42001: 0.000276, learning rate: 0.442921\n",
      "Minibatch loss at step 43001: 0.000224, learning rate: 0.442921\n",
      "Minibatch loss at step 44001: 0.000270, learning rate: 0.442921\n",
      "Minibatch loss at step 45001: 0.000262, learning rate: 0.442921\n",
      "Minibatch loss at step 46001: 0.000218, learning rate: 0.442921\n",
      "Minibatch loss at step 47001: 0.000195, learning rate: 0.442921\n",
      "Minibatch loss at step 48001: 0.000277, learning rate: 0.442921\n",
      "Minibatch loss at step 49001: 0.000199, learning rate: 0.434063\n",
      "Minibatch loss at step 50001: 0.000214, learning rate: 0.434063\n",
      "Minibatch loss at step 51001: 0.000178, learning rate: 0.434063\n",
      "Minibatch loss at step 52001: 0.000201, learning rate: 0.434063\n",
      "Minibatch loss at step 53001: 0.000181, learning rate: 0.434063\n",
      "Minibatch loss at step 54001: 0.000165, learning rate: 0.434063\n",
      "Minibatch loss at step 55001: 0.000137, learning rate: 0.434063\n",
      "Minibatch loss at step 56001: 0.000140, learning rate: 0.425382\n",
      "Minibatch loss at step 57001: 0.000138, learning rate: 0.425382\n",
      "Minibatch loss at step 58001: 0.000099, learning rate: 0.425382\n",
      "Minibatch loss at step 59001: 0.000103, learning rate: 0.425382\n",
      "Minibatch loss at step 60001: 0.000109, learning rate: 0.425382\n",
      "Minibatch loss at step 61001: 0.000107, learning rate: 0.425382\n",
      "Minibatch loss at step 62001: 0.000083, learning rate: 0.425382\n",
      "Minibatch loss at step 63001: 0.000093, learning rate: 0.416874\n",
      "Minibatch loss at step 64001: 0.000091, learning rate: 0.416874\n",
      "Minibatch loss at step 65001: 0.000085, learning rate: 0.416874\n",
      "Minibatch loss at step 66001: 0.000064, learning rate: 0.416874\n",
      "Minibatch loss at step 67001: 0.000084, learning rate: 0.416874\n",
      "Minibatch loss at step 68001: 0.000100, learning rate: 0.416874\n",
      "Minibatch loss at step 69001: 0.000063, learning rate: 0.416874\n",
      "Minibatch loss at step 70001: 0.000086, learning rate: 0.408536\n",
      "Minibatch loss at step 71001: 0.000110, learning rate: 0.408536\n",
      "Minibatch loss at step 72001: 0.000082, learning rate: 0.408536\n",
      "Minibatch loss at step 73001: 0.000059, learning rate: 0.408536\n",
      "Minibatch loss at step 74001: 0.000078, learning rate: 0.408536\n",
      "Minibatch loss at step 75001: 0.000140, learning rate: 0.408536\n",
      "Minibatch loss at step 76001: 0.000221, learning rate: 0.408536\n",
      "Minibatch loss at step 77001: 0.000077, learning rate: 0.400366\n",
      "Minibatch loss at step 78001: 0.000064, learning rate: 0.400366\n",
      "Minibatch loss at step 79001: 0.000055, learning rate: 0.400366\n",
      "Minibatch loss at step 80001: 0.000042, learning rate: 0.400366\n",
      "Minibatch loss at step 81001: 0.000042, learning rate: 0.400366\n",
      "Minibatch loss at step 82001: 0.000088, learning rate: 0.400366\n",
      "Minibatch loss at step 83001: 0.000095, learning rate: 0.400366\n",
      "Minibatch loss at step 84001: 0.000082, learning rate: 0.392358\n",
      "Minibatch loss at step 85001: 0.000040, learning rate: 0.392358\n",
      "Minibatch loss at step 86001: 0.000042, learning rate: 0.392358\n",
      "Minibatch loss at step 87001: 0.000042, learning rate: 0.392358\n",
      "Minibatch loss at step 88001: 0.000228, learning rate: 0.392358\n",
      "Minibatch loss at step 89001: 0.000038, learning rate: 0.392358\n",
      "Minibatch loss at step 90001: 0.000081, learning rate: 0.392358\n",
      "Minibatch loss at step 91001: 0.000067, learning rate: 0.384511\n",
      "Minibatch loss at step 92001: 0.000043, learning rate: 0.384511\n",
      "Minibatch loss at step 93001: 0.000052, learning rate: 0.384511\n",
      "Minibatch loss at step 94001: 0.000044, learning rate: 0.384511\n",
      "Minibatch loss at step 95001: 0.000030, learning rate: 0.384511\n",
      "Minibatch loss at step 96001: 0.000039, learning rate: 0.384511\n",
      "Minibatch loss at step 97001: 0.000091, learning rate: 0.384511\n",
      "Minibatch loss at step 98001: 0.000068, learning rate: 0.376821\n",
      "Minibatch loss at step 99001: 0.000064, learning rate: 0.376821\n",
      "Minibatch loss at step 100001: 0.000066, learning rate: 0.376821\n"
     ]
    }
   ],
   "source": [
    "num_steps = 100051\n",
    "generator = BatchGenerator(batch_size)\n",
    "\n",
    "def accuracy(predictions, labels):\n",
    "  return (100.0 * np.sum(np.argmax(predictions, 1) == np.argmax(labels))\n",
    "          / predictions.shape[0])\n",
    "\n",
    "session = tf.Session(graph=graph)\n",
    "\n",
    "with graph.as_default():\n",
    "  with session.as_default():\n",
    "    tf.global_variables_initializer().run()\n",
    "    print(\"Initialized\")\n",
    "    for step in range(num_steps):\n",
    "      batch_data, batch_labels = generator.spit()\n",
    "      feed_dict = {x : batch_data, y : batch_labels}\n",
    "      _, l, global_step, lr = session.run(\n",
    "        [optimizer, loss, tf_global_step, learning_rate], feed_dict=feed_dict)\n",
    "\n",
    "      if (step % 1000 == 0):\n",
    "        print(\"Minibatch loss at step %d: %f, learning rate: %f\" % (global_step, l, lr))\n",
    "    predicted = tf_prediction.eval(feed_dict={tf_test_data: test_dataset})\n",
    "\n",
    "session.close()"
   ]
  },
  {
   "cell_type": "code",
   "execution_count": 62,
   "metadata": {},
   "outputs": [
    {
     "data": {
      "image/png": "[encoded data removed]",
      "text/plain": [
       "<matplotlib.figure.Figure at 0x11803c0b8>"
      ]
     },
     "metadata": {},
     "output_type": "display_data"
    }
   ],
   "source": [
    "predicted_test = np.array(squashed_labels_to_labels(predicted.reshape(predicted.shape[0])))\n",
    "\n",
    "plt.scatter(squashed_secs_to_hours(test_dataset), squashed_labels_to_labels(test_labels))\n",
    "plt.plot(squashed_secs_to_hours(test_dataset), predicted_test, color='green')\n",
    "plt.show()"
   ]
  }
 ],
 "metadata": {
  "colab": {
   "default_view": {},
   "name": "6_lstm.ipynb",
   "provenance": [],
   "version": "0.3.2",
   "views": {}
  },
  "kernelspec": {
   "display_name": "Python 3",
   "language": "python",
   "name": "python3"
  },
  "language_info": {
   "codemirror_mode": {
    "name": "ipython",
    "version": 3
   },
   "file_extension": ".py",
   "mimetype": "text/x-python",
   "name": "python",
   "nbconvert_exporter": "python",
   "pygments_lexer": "ipython3",
   "version": "3.6.1"
  }
 },
 "nbformat": 4,
 "nbformat_minor": 1
}
