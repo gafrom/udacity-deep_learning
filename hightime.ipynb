{
 "cells": [
  {
   "cell_type": "markdown",
   "metadata": {
    "colab_type": "text",
    "id": "8tQJd2YSCfWR"
   },
   "source": []
  },
  {
   "cell_type": "markdown",
   "metadata": {
    "colab_type": "text",
    "id": "D7tqLMoKF6uq"
   },
   "source": [
    "HighTime - Web traffic analysis neural model\n",
    "=============\n",
    "<span style=\"color: lightsteelblue;\">Deep Learning</span>\n",
    "\n",
    "The goal of this assignment is to train a simple DNN model to make predictions over web traffic."
   ]
  },
  {
   "cell_type": "code",
   "execution_count": 1,
   "metadata": {
    "cellView": "both",
    "colab": {
     "autoexec": {
      "startup": false,
      "wait_interval": 0
     }
    },
    "colab_type": "code",
    "collapsed": true,
    "id": "MvEblsgEXxrd"
   },
   "outputs": [],
   "source": [
    "# These are all the modules we'll be using later. Make sure you can import them\n",
    "# before proceeding further.\n",
    "from __future__ import print_function\n",
    "import os\n",
    "import numpy as np\n",
    "import random\n",
    "import string\n",
    "import tensorflow as tf\n",
    "import zipfile\n",
    "from six.moves import range\n",
    "from six.moves.urllib.request import urlretrieve\n",
    "import matplotlib.pyplot as plt"
   ]
  },
  {
   "cell_type": "markdown",
   "metadata": {},
   "source": [
    "Let us mimic real traffic data by using normal distribution:"
   ]
  },
  {
   "cell_type": "code",
   "execution_count": 2,
   "metadata": {
    "cellView": "both",
    "colab": {
     "autoexec": {
      "startup": false,
      "wait_interval": 0
     },
     "output_extras": [
      {
       "item_id": 1
      }
     ]
    },
    "colab_type": "code",
    "executionInfo": {
     "elapsed": 5993,
     "status": "ok",
     "timestamp": 1445965582896,
     "user": {
      "color": "#1FA15D",
      "displayName": "Vincent Vanhoucke",
      "isAnonymous": false,
      "isMe": true,
      "permissionId": "05076109866853157986",
      "photoUrl": "//lh6.googleusercontent.com/-cCJa7dTDcgQ/AAAAAAAAAAI/AAAAAAAACgw/r2EZ_8oYer4/s50-c-k-no/photo.jpg",
      "sessionId": "6f6f07b359200c46",
      "userId": "102167687554210253930"
     },
     "user_tz": 420
    },
    "id": "RJ-o3UBUFtCw",
    "outputId": "d530534e-0791-4a94-ca6d-1c8f1b908a9e"
   },
   "outputs": [
    {
     "name": "stdout",
     "output_type": "stream",
     "text": [
      "[ 13  15  27  44  83 127 195 262 345 423 476 480 489 430 416 359 291 189]\n"
     ]
    },
    {
     "data": {
      "image/png": "[encoded data removed]",
      "text/plain": [
       "<matplotlib.figure.Figure at 0x109f0fba8>"
      ]
     },
     "metadata": {},
     "output_type": "display_data"
    }
   ],
   "source": [
    "def fake_train(batch_size=24):\n",
    "  assert batch_size > 0 and batch_size < 25\n",
    "  normal = np.random.normal(12, 4, 5000)\n",
    "  train = np.arange(batch_size)\n",
    "\n",
    "  for i in range(0, batch_size):\n",
    "    count = 0\n",
    "    for p in normal:\n",
    "      if (p >= i and p < i + 1):\n",
    "        count += 1\n",
    "    train[i] = count\n",
    "  return train\n",
    "\n",
    "example = fake_train(18)\n",
    "print(example)\n",
    "\n",
    "plt.plot(range(0, 18), example)\n",
    "plt.show()"
   ]
  },
  {
   "cell_type": "markdown",
   "metadata": {
    "colab_type": "text",
    "id": "lFwoyygOmWsL"
   },
   "source": [
    "Function to generate a training batch:"
   ]
  },
  {
   "cell_type": "code",
   "execution_count": 29,
   "metadata": {
    "cellView": "both",
    "colab": {
     "autoexec": {
      "startup": false,
      "wait_interval": 0
     },
     "output_extras": [
      {
       "item_id": 1
      }
     ]
    },
    "colab_type": "code",
    "collapsed": true,
    "executionInfo": {
     "elapsed": 6473,
     "status": "ok",
     "timestamp": 1445965583467,
     "user": {
      "color": "#1FA15D",
      "displayName": "Vincent Vanhoucke",
      "isAnonymous": false,
      "isMe": true,
      "permissionId": "05076109866853157986",
      "photoUrl": "//lh6.googleusercontent.com/-cCJa7dTDcgQ/AAAAAAAAAAI/AAAAAAAACgw/r2EZ_8oYer4/s50-c-k-no/photo.jpg",
      "sessionId": "6f6f07b359200c46",
      "userId": "102167687554210253930"
     },
     "user_tz": 420
    },
    "id": "d9wMtjy5hCj9",
    "outputId": "3dd79c80-454a-4be0-8b71-4a4a357b3367"
   },
   "outputs": [],
   "source": [
    "total_seconds = 24 * 3600\n",
    "total_rps = 1000\n",
    "\n",
    "def secs_to_time(time_in_seconds):\n",
    "  hours = time_in_seconds // 3600\n",
    "  minutes = (time_in_seconds - hours * 3600) // 60\n",
    "  seconds = time_in_seconds - hours * 3600 - minutes * 60\n",
    "  return hours, minutes, seconds\n",
    "\n",
    "def time_to_secs(hour, minutes, seconds):\n",
    "  return hour * 3600 + minutes * 60 + seconds\n",
    "\n",
    "def time_to_squashed_secs(hour, minutes, seconds):\n",
    "  return time_to_secs(hour, minutes, seconds) / total_seconds\n",
    "\n",
    "def secs_to_string(sec):\n",
    "  result = ':'.join([('%d' % i) for i in secs_to_time(sec)])\n",
    "  return result + (' (%dth second)' % sec)\n",
    "\n",
    "def squashed_secs_to_string(sq_sec):\n",
    "  return secs_to_string(sq_sec * total_seconds)\n",
    "\n",
    "def squashed_label_to_label(sq_label):\n",
    "  return sq_label * total_rps\n",
    "\n",
    "def squashed_labels_to_labels(sq_labels):\n",
    "  return [sq_label * total_rps for sq_label in sq_labels]\n",
    "\n",
    "class BatchGenerator(object):\n",
    "  def __init__(self, batch_size):\n",
    "    self._batch_size = batch_size\n",
    "\n",
    "  def spit(self):\n",
    "    labels = fake_train(self._batch_size).reshape(self._batch_size, 1)\n",
    "    train = []\n",
    "\n",
    "    for hour in range(self._batch_size):\n",
    "      minutes = random.randint(0, 59)\n",
    "      seconds = random.randint(0, 59)\n",
    "      train.append(time_to_squashed_secs(hour, minutes, seconds))\n",
    "\n",
    "    return np.array(train, dtype=np.float32).reshape(self._batch_size, 1), (labels / total_rps)"
   ]
  },
  {
   "cell_type": "markdown",
   "metadata": {},
   "source": [
    "Generate valid and test datasets:"
   ]
  },
  {
   "cell_type": "code",
   "execution_count": 4,
   "metadata": {},
   "outputs": [
    {
     "name": "stdout",
     "output_type": "stream",
     "text": [
      "Time 0:45:58 (2758th second) => 5.00 rps\n",
      "Time 1:53:35 (6815th second) => 16.00 rps\n",
      "Time 2:55:35 (10535th second) => 27.00 rps\n",
      "Time 3:5:48 (11148th second) => 56.00 rps\n",
      "Time 4:4:35 (14675th second) => 81.00 rps\n",
      "Time 5:10:26 (18626th second) => 132.00 rps\n",
      "Time 6:39:45 (23985th second) => 180.00 rps\n",
      "Time 7:59:33 (28773th second) => 236.00 rps\n",
      "Time 8:21:58 (30118th second) => 339.00 rps\n",
      "Time 9:6:44 (32804th second) => 412.00 rps\n",
      "Time 10:31:56 (37916th second) => 503.00 rps\n",
      "Time 11:23:48 (41028th second) => 475.00 rps\n",
      "Time 12:35:17 (45317th second) => 492.00 rps\n",
      "Time 13:16:6 (47766th second) => 482.00 rps\n",
      "Time 14:54:59 (53699th second) => 421.00 rps\n",
      "Time 15:30:12 (55812th second) => 330.00 rps\n",
      "Time 16:59:24 (61164th second) => 278.00 rps\n",
      "Time 17:50:12 (64212th second) => 188.00 rps\n",
      "Time 18:2:2 (64922th second) => 137.00 rps\n",
      "Time 19:6:46 (68806th second) => 97.00 rps\n",
      "Time 20:17:1 (73021th second) => 50.00 rps\n",
      "Time 21:3:26 (75806th second) => 30.00 rps\n",
      "Time 22:32:53 (81173th second) => 12.00 rps\n",
      "Time 23:0:29 (82829th second) => 11.00 rps\n"
     ]
    }
   ],
   "source": [
    "generator = BatchGenerator(24)\n",
    "\n",
    "test_dataset, test_labels = generator.spit()\n",
    "\n",
    "# print(test_dataset)\n",
    "# print(test_labels)\n",
    "\n",
    "for sec, label in list(zip(test_dataset, test_labels)):\n",
    "  print('Time %s => %03.2f rps' % (squashed_secs_to_string(sec), squashed_label_to_label(label)))"
   ]
  },
  {
   "cell_type": "markdown",
   "metadata": {
    "colab_type": "text",
    "id": "K8f67YXaDr4C"
   },
   "source": [
    "Simple NN Model with one hidden layer and hyperbolic tangent activation function."
   ]
  },
  {
   "cell_type": "code",
   "execution_count": 23,
   "metadata": {
    "cellView": "both",
    "colab": {
     "autoexec": {
      "startup": false,
      "wait_interval": 0
     }
    },
    "colab_type": "code",
    "collapsed": true,
    "id": "Q5rxZK6RDuGe"
   },
   "outputs": [],
   "source": [
    "feature_size = 1 # number of features to feed input\n",
    "num_labels = 1 # number of output labels\n",
    "num_hidden_nodes = 8\n",
    "batch_size = 24\n",
    "learning_rate = 0.05\n",
    "\n",
    "graph = tf.Graph()\n",
    "with graph.as_default():\n",
    "  # Input data. For the training data, we use a placeholder that will be fed\n",
    "  # at run time with a training minibatch.\n",
    "  x = tf.placeholder(tf.float32, shape=(batch_size, feature_size))\n",
    "  y = tf.placeholder(tf.float32, shape=(batch_size, 1))\n",
    "  tf_test_data = tf.placeholder(tf.float32, shape=(None, feature_size))\n",
    "\n",
    "  # Hidden layer variables\n",
    "  weights1 = tf.Variable(tf.truncated_normal([feature_size, num_hidden_nodes]))\n",
    "  biases1  = tf.Variable(tf.zeros([num_hidden_nodes]))\n",
    "\n",
    "  # Variables.\n",
    "  weights2 = tf.Variable(tf.truncated_normal([num_hidden_nodes, num_labels]))\n",
    "  biases2  = tf.Variable(tf.zeros([num_labels]))\n",
    "\n",
    "  # Training computation.\n",
    "  z0 = tf.matmul(x, weights1) + biases1\n",
    "  a0 = tf.nn.relu(z0)\n",
    "\n",
    "  z1 = tf.matmul(a0, weights2) + biases2\n",
    "  a1 = z1\n",
    "  error = a1 - y\n",
    "  loss = tf.reduce_mean(tf.square(error))\n",
    "\n",
    "  # Optimizer.\n",
    "  optimizer = tf.train.GradientDescentOptimizer(learning_rate).minimize(loss)\n",
    "\n",
    "  # Prediction for test data.\n",
    "  tf_prediction_hidden = tf.nn.relu(tf.matmul(tf_test_data, weights1) + biases1)\n",
    "  tf_prediction        = tf.matmul(tf_prediction_hidden, weights2) + biases2"
   ]
  },
  {
   "cell_type": "code",
   "execution_count": 24,
   "metadata": {},
   "outputs": [
    {
     "name": "stdout",
     "output_type": "stream",
     "text": [
      "[ 10.000  0.759  0.371  0.238 -0.186 -10.000]\n",
      "[ 1.000  0.681  0.592  0.559  0.454  0.000]\n"
     ]
    }
   ],
   "source": [
    "np.set_printoptions(formatter={'float': '{: 0.3f}'.format})\n",
    "a = np.array([10, 0.759, 0.371, 0.2378, -0.1861, -10], np.float32)\n",
    "print(a)\n",
    "\n",
    "sigma = tf.nn.sigmoid(a).eval(session=tf.Session())\n",
    "print(sigma)"
   ]
  },
  {
   "cell_type": "code",
   "execution_count": 27,
   "metadata": {},
   "outputs": [
    {
     "name": "stdout",
     "output_type": "stream",
     "text": [
      "Initialized\n",
      "Minibatch loss at step 0: 0.200010\n",
      "Minibatch loss at step 50: 0.024542\n",
      "Minibatch loss at step 100: 0.023827\n",
      "Minibatch loss at step 150: 0.023100\n",
      "Minibatch loss at step 200: 0.022392\n",
      "Minibatch loss at step 250: 0.020147\n",
      "Minibatch loss at step 300: 0.019666\n"
     ]
    }
   ],
   "source": [
    "num_steps = 301\n",
    "generator = BatchGenerator(batch_size)\n",
    "\n",
    "def accuracy(predictions, labels):\n",
    "  return (100.0 * np.sum(np.argmax(predictions, 1) == np.argmax(labels))\n",
    "          / predictions.shape[0])\n",
    "\n",
    "session = tf.Session(graph=graph)\n",
    "\n",
    "with graph.as_default():\n",
    "  with session.as_default():\n",
    "    tf.global_variables_initializer().run()\n",
    "    print(\"Initialized\")\n",
    "    for step in range(num_steps):\n",
    "      batch_data, batch_labels = generator.spit()\n",
    "      feed_dict = {x : batch_data, y : batch_labels}\n",
    "      _, l = session.run(\n",
    "        [optimizer, loss], feed_dict=feed_dict)\n",
    "      if (step % 50 == 0):\n",
    "        print(\"Minibatch loss at step %d: %f\" % (step, l))\n",
    "#         print(\"output: %s\" % (oe))\n",
    "#         print(\"hidden layer %s\" % (hl))\n",
    "#         print(\"X: %s\" % (Xe))\n",
    "#         print(\"Y: %s\" % (Ye))\n",
    "#         print(\"w1: %s\" % (w1e))\n",
    "#         print(\"bias1: %s\" % (b1e))\n",
    "#         print(\"y: %s\" % (ye))\n",
    "#         print(\"w2: %s\" % (w2e))\n",
    "#         print(\"bias2: %s\" % (b2e))\n",
    "#         print(\"error: %s\" % (ee))\n",
    "#         print(\"squared error: %s\" % (see))\n",
    "\n",
    "  #         print(\"Minibatch accuracy: %.1f%%\" % accuracy(predictions, batch_labels))\n",
    "    #       print(\"Validation accuracy: %.1f%%\" % accuracy(\n",
    "    #         valid_prediction.eval(), valid_labels))\n",
    "  #         print(\"Test accuracy: %.1f%%\" % accuracy(test_prediction.eval(), test_labels))\n",
    "    predicted = tf_prediction.eval(feed_dict={tf_test_data: test_dataset})"
   ]
  },
  {
   "cell_type": "code",
   "execution_count": 32,
   "metadata": {},
   "outputs": [
    {
     "name": "stdout",
     "output_type": "stream",
     "text": [
      "[ 0.14  0.16  0.18  0.19  0.20  0.21  0.23  0.24  0.25  0.25  0.26  0.27\n",
      "  0.26  0.25  0.24  0.23  0.21  0.20  0.20  0.19  0.18  0.17  0.15  0.15]\n",
      "[ 138  162  184  187  203  215  230  244  248  253  261  266  262  255  237\n",
      "  230  214  205  202  191  178  169  153  148]\n"
     ]
    },
    {
     "data": {
      "image/png": "[encoded data removed]",
      "text/plain": [
       "<matplotlib.figure.Figure at 0x1138ad7f0>"
      ]
     },
     "metadata": {},
     "output_type": "display_data"
    }
   ],
   "source": [
    "np.set_printoptions(formatter={'float': '{: 0.2f}'.format})\n",
    "predicted_rps = np.array(squashed_labels_to_labels(predicted.reshape(predicted.shape[0])))\n",
    "\n",
    "print(predicted.reshape(predicted.shape[0]))\n",
    "np.set_printoptions(formatter={'float': '{: 0.0f}'.format})\n",
    "print(predicted_rps)\n",
    "\n",
    "plt.plot(predicted)\n",
    "plt.plot(predicted_rps)\n",
    "plt.show()"
   ]
  }
 ],
 "metadata": {
  "colab": {
   "default_view": {},
   "name": "6_lstm.ipynb",
   "provenance": [],
   "version": "0.3.2",
   "views": {}
  },
  "kernelspec": {
   "display_name": "Python 3",
   "language": "python",
   "name": "python3"
  },
  "language_info": {
   "codemirror_mode": {
    "name": "ipython",
    "version": 3
   },
   "file_extension": ".py",
   "mimetype": "text/x-python",
   "name": "python",
   "nbconvert_exporter": "python",
   "pygments_lexer": "ipython3",
   "version": "3.6.1"
  }
 },
 "nbformat": 4,
 "nbformat_minor": 1
}
