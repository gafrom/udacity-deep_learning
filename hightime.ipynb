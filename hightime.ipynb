{
 "cells": [
  {
   "cell_type": "markdown",
   "metadata": {
    "colab_type": "text",
    "id": "8tQJd2YSCfWR"
   },
   "source": []
  },
  {
   "cell_type": "markdown",
   "metadata": {
    "colab_type": "text",
    "id": "D7tqLMoKF6uq"
   },
   "source": [
    "HighTime - Web traffic analysis neural model\n",
    "=============\n",
    "<span style=\"color: lightsteelblue;\">Deep Learning</span>\n",
    "\n",
    "The goal of this assignment is to train a simple DNN model to make predictions over web traffic."
   ]
  },
  {
   "cell_type": "code",
   "execution_count": 1,
   "metadata": {
    "cellView": "both",
    "colab": {
     "autoexec": {
      "startup": false,
      "wait_interval": 0
     }
    },
    "colab_type": "code",
    "collapsed": true,
    "id": "MvEblsgEXxrd"
   },
   "outputs": [],
   "source": [
    "# These are all the modules we'll be using later. Make sure you can import them\n",
    "# before proceeding further.\n",
    "from __future__ import print_function\n",
    "import os\n",
    "import numpy as np\n",
    "import random\n",
    "import string\n",
    "import tensorflow as tf\n",
    "import zipfile\n",
    "from six.moves import range\n",
    "from six.moves.urllib.request import urlretrieve\n",
    "import matplotlib.pyplot as plt"
   ]
  },
  {
   "cell_type": "markdown",
   "metadata": {},
   "source": [
    "Let us mimic real traffic data by using normal distribution:"
   ]
  },
  {
   "cell_type": "code",
   "execution_count": 2,
   "metadata": {
    "cellView": "both",
    "colab": {
     "autoexec": {
      "startup": false,
      "wait_interval": 0
     },
     "output_extras": [
      {
       "item_id": 1
      }
     ]
    },
    "colab_type": "code",
    "executionInfo": {
     "elapsed": 5993,
     "status": "ok",
     "timestamp": 1445965582896,
     "user": {
      "color": "#1FA15D",
      "displayName": "Vincent Vanhoucke",
      "isAnonymous": false,
      "isMe": true,
      "permissionId": "05076109866853157986",
      "photoUrl": "//lh6.googleusercontent.com/-cCJa7dTDcgQ/AAAAAAAAAAI/AAAAAAAACgw/r2EZ_8oYer4/s50-c-k-no/photo.jpg",
      "sessionId": "6f6f07b359200c46",
      "userId": "102167687554210253930"
     },
     "user_tz": 420
    },
    "id": "RJ-o3UBUFtCw",
    "outputId": "d530534e-0791-4a94-ca6d-1c8f1b908a9e"
   },
   "outputs": [
    {
     "data": {
      "image/png": "[encoded data removed]",
      "text/plain": [
       "<matplotlib.figure.Figure at 0x1132a7ba8>"
      ]
     },
     "metadata": {},
     "output_type": "display_data"
    }
   ],
   "source": [
    "total_seconds = 24 * 3600\n",
    "total_rps = 1000\n",
    "\n",
    "def gaussian(x, mu = 0, sig = 1):\n",
    "    return np.exp(-np.power(x - mu, 2.) / (2 * np.power(sig, 2.)))\n",
    "\n",
    "def rps(x):\n",
    "  return (gaussian(x, total_seconds/2, 12000) * 5 - gaussian(x, total_seconds/2, 10000) * 4 ) * 500 + 50\n",
    "\n",
    "def fake_train(batch_size=100):\n",
    "  x = np.linspace(0, total_seconds, batch_size)\n",
    "  return x, rps(x)\n",
    "\n",
    "x = np.linspace(0, total_seconds, 120)\n",
    "plt.plot(x, rps(x))\n",
    "plt.scatter(fake_train(18)[0], fake_train(18)[1], color='red')\n",
    "plt.show()"
   ]
  },
  {
   "cell_type": "markdown",
   "metadata": {
    "colab_type": "text",
    "id": "lFwoyygOmWsL"
   },
   "source": [
    "Function to generate a training batch:"
   ]
  },
  {
   "cell_type": "code",
   "execution_count": 3,
   "metadata": {
    "cellView": "both",
    "colab": {
     "autoexec": {
      "startup": false,
      "wait_interval": 0
     },
     "output_extras": [
      {
       "item_id": 1
      }
     ]
    },
    "colab_type": "code",
    "collapsed": true,
    "executionInfo": {
     "elapsed": 6473,
     "status": "ok",
     "timestamp": 1445965583467,
     "user": {
      "color": "#1FA15D",
      "displayName": "Vincent Vanhoucke",
      "isAnonymous": false,
      "isMe": true,
      "permissionId": "05076109866853157986",
      "photoUrl": "//lh6.googleusercontent.com/-cCJa7dTDcgQ/AAAAAAAAAAI/AAAAAAAACgw/r2EZ_8oYer4/s50-c-k-no/photo.jpg",
      "sessionId": "6f6f07b359200c46",
      "userId": "102167687554210253930"
     },
     "user_tz": 420
    },
    "id": "d9wMtjy5hCj9",
    "outputId": "3dd79c80-454a-4be0-8b71-4a4a357b3367"
   },
   "outputs": [],
   "source": [
    "def secs_to_time(time_in_seconds):\n",
    "  hours = time_in_seconds // 3600\n",
    "  minutes = (time_in_seconds - hours * 3600) // 60\n",
    "  seconds = time_in_seconds - hours * 3600 - minutes * 60\n",
    "  return hours, minutes, seconds\n",
    "\n",
    "def time_to_secs(hour, minutes, seconds):\n",
    "  return hour * 3600 + minutes * 60 + seconds\n",
    "\n",
    "def time_to_squashed_secs(hour, minutes, seconds):\n",
    "  return time_to_secs(hour, minutes, seconds) / total_seconds\n",
    "\n",
    "def secs_to_string(sec):\n",
    "  result = ':'.join([('%d' % i) for i in secs_to_time(sec)])\n",
    "  return result + (' (%dth second)' % sec)\n",
    "\n",
    "def squashed_secs_to_string(sq_sec):\n",
    "  return secs_to_string(sq_sec * total_seconds)\n",
    "\n",
    "def squashed_secs_to_hours(sq_secs):\n",
    "  return [sq_sec * 24 for sq_sec in sq_secs]\n",
    "\n",
    "def squashed_label_to_label(sq_label):\n",
    "  return sq_label * total_rps\n",
    "\n",
    "def squashed_labels_to_labels(sq_labels):\n",
    "  return [sq_label * total_rps for sq_label in sq_labels]\n",
    "\n",
    "class BatchGenerator(object):\n",
    "  def __init__(self, batch_size):\n",
    "    self._batch_size = batch_size\n",
    "\n",
    "  def spit(self):\n",
    "    dataset = np.random.uniform(0, total_seconds, self._batch_size)\n",
    "    labels  = rps(dataset)\n",
    "    \n",
    "    dataset = (dataset / total_seconds).reshape(self._batch_size, 1)\n",
    "    labels  = (labels  / total_rps    ).reshape(self._batch_size, 1)\n",
    "\n",
    "    return dataset, labels"
   ]
  },
  {
   "cell_type": "markdown",
   "metadata": {},
   "source": [
    "Generate valid and test datasets:"
   ]
  },
  {
   "cell_type": "code",
   "execution_count": 4,
   "metadata": {},
   "outputs": [
    {
     "name": "stdout",
     "output_type": "stream",
     "text": [
      "Test size: %s (120, 1)\n",
      "Ten test pairs as an example:\n",
      "Time 0:3:57 (237th second) => 53.92 rps\n",
      "Time 0:56:34 (3394th second) => 59.47 rps\n",
      "Time 1:22:20 (4940th second) => 64.18 rps\n",
      "Time 1:54:51 (6891th second) => 72.96 rps\n",
      "Time 2:1:11 (7271th second) => 75.13 rps\n",
      "Time 2:3:37 (7417th second) => 76.01 rps\n",
      "Time 2:42:43 (9763th second) => 94.06 rps\n",
      "Time 2:43:30 (9810th second) => 94.51 rps\n",
      "Time 2:55:19 (10519th second) => 101.70 rps\n",
      "Time 3:12:23 (11543th second) => 113.71 rps\n"
     ]
    }
   ],
   "source": [
    "generator = BatchGenerator(120)\n",
    "\n",
    "# Test dataset\n",
    "test_dataset, test_labels = generator.spit()\n",
    "# sort it for a nice view\n",
    "sorting = np.array([test_dataset, test_labels]).reshape(2, -1).T\n",
    "sorting = sorting[np.argsort(sorting[:, 0])]\n",
    "test_dataset, test_labels = sorting.T.reshape(2, -1, 1)\n",
    "\n",
    "print('Test size: %s', test_dataset.shape)\n",
    "print('Ten test pairs as an example:')\n",
    "\n",
    "for sec, label in list(zip(test_dataset, test_labels))[:10]:\n",
    "  print('Time %s => %03.2f rps' % (squashed_secs_to_string(sec), squashed_label_to_label(label)))"
   ]
  },
  {
   "cell_type": "markdown",
   "metadata": {
    "colab_type": "text",
    "id": "K8f67YXaDr4C"
   },
   "source": [
    "Simple NN Model with one hidden layer and ReLU activation function."
   ]
  },
  {
   "cell_type": "code",
   "execution_count": 8,
   "metadata": {
    "cellView": "both",
    "colab": {
     "autoexec": {
      "startup": false,
      "wait_interval": 0
     }
    },
    "colab_type": "code",
    "collapsed": true,
    "id": "Q5rxZK6RDuGe"
   },
   "outputs": [],
   "source": [
    "feature_size = 1 # number of features to feed input\n",
    "num_labels = 1 # number of output labels\n",
    "num_hidden_nodes = 35\n",
    "batch_size = 100\n",
    "learning_rate = 0.05\n",
    "\n",
    "graph = tf.Graph()\n",
    "with graph.as_default():\n",
    "  # Input data. For the training data, we use a placeholder that will be fed\n",
    "  # at run time with a training minibatch.\n",
    "  x = tf.placeholder(tf.float32, shape=(batch_size, feature_size))\n",
    "  y = tf.placeholder(tf.float32, shape=(batch_size, 1))\n",
    "  tf_test_data = tf.placeholder(tf.float32, shape=(None, feature_size))\n",
    "\n",
    "  # Hidden layer variables\n",
    "  weights1 = tf.Variable(tf.truncated_normal([feature_size, num_hidden_nodes]))\n",
    "  biases1  = tf.Variable(tf.zeros([num_hidden_nodes]))\n",
    "\n",
    "  # Variables.\n",
    "  weights2 = tf.Variable(tf.truncated_normal([num_hidden_nodes, num_labels]))\n",
    "  biases2  = tf.Variable(tf.zeros([num_labels]))\n",
    "\n",
    "  # Training computation.\n",
    "  z0 = tf.matmul(x, weights1) + biases1\n",
    "  a0 = tf.nn.relu(z0)\n",
    "\n",
    "  z1 = tf.matmul(a0, weights2) + biases2\n",
    "  a1 = z1\n",
    "  error = a1 - y\n",
    "  loss = tf.reduce_mean(tf.square(error))\n",
    "\n",
    "  # Optimizer.\n",
    "  optimizer = tf.train.GradientDescentOptimizer(learning_rate).minimize(loss)\n",
    "\n",
    "  # Prediction for test data.\n",
    "  tf_prediction_hidden = tf.nn.relu(tf.matmul(tf_test_data, weights1) + biases1)\n",
    "  tf_prediction        = tf.matmul(tf_prediction_hidden, weights2) + biases2"
   ]
  },
  {
   "cell_type": "code",
   "execution_count": 9,
   "metadata": {},
   "outputs": [
    {
     "name": "stdout",
     "output_type": "stream",
     "text": [
      "Initialized\n",
      "Minibatch loss at step 0: 15.752242\n",
      "Minibatch loss at step 50: 0.008410\n",
      "Minibatch loss at step 100: 0.006527\n",
      "Minibatch loss at step 150: 0.004133\n",
      "Minibatch loss at step 200: 0.004286\n",
      "Minibatch loss at step 250: 0.003489\n",
      "Minibatch loss at step 300: 0.002693\n",
      "Minibatch loss at step 350: 0.002414\n",
      "Minibatch loss at step 400: 0.002304\n",
      "Minibatch loss at step 450: 0.002508\n",
      "Minibatch loss at step 500: 0.002282\n",
      "Minibatch loss at step 550: 0.002013\n",
      "Minibatch loss at step 600: 0.002318\n",
      "Minibatch loss at step 650: 0.002152\n",
      "Minibatch loss at step 700: 0.001918\n",
      "Minibatch loss at step 750: 0.001873\n",
      "Minibatch loss at step 800: 0.001787\n",
      "Minibatch loss at step 850: 0.001722\n",
      "Minibatch loss at step 900: 0.001260\n",
      "Minibatch loss at step 950: 0.001619\n",
      "Minibatch loss at step 1000: 0.001673\n",
      "Minibatch loss at step 1050: 0.001715\n"
     ]
    }
   ],
   "source": [
    "num_steps = 1051\n",
    "generator = BatchGenerator(batch_size)\n",
    "\n",
    "def accuracy(predictions, labels):\n",
    "  return (100.0 * np.sum(np.argmax(predictions, 1) == np.argmax(labels))\n",
    "          / predictions.shape[0])\n",
    "\n",
    "session = tf.Session(graph=graph)\n",
    "\n",
    "with graph.as_default():\n",
    "  with session.as_default():\n",
    "    tf.global_variables_initializer().run()\n",
    "    print(\"Initialized\")\n",
    "    for step in range(num_steps):\n",
    "      batch_data, batch_labels = generator.spit()\n",
    "      feed_dict = {x : batch_data, y : batch_labels}\n",
    "      _, l = session.run(\n",
    "        [optimizer, loss], feed_dict=feed_dict)\n",
    "      if (step % 50 == 0):\n",
    "        print(\"Minibatch loss at step %d: %f\" % (step, l))\n",
    "    predicted = tf_prediction.eval(feed_dict={tf_test_data: test_dataset})\n",
    "\n",
    "session.close()"
   ]
  },
  {
   "cell_type": "code",
   "execution_count": 10,
   "metadata": {},
   "outputs": [
    {
     "data": {
      "image/png": "[encoded data removed]",
      "text/plain": [
       "<matplotlib.figure.Figure at 0x113568be0>"
      ]
     },
     "metadata": {},
     "output_type": "display_data"
    }
   ],
   "source": [
    "predicted_test = np.array(squashed_labels_to_labels(predicted.reshape(predicted.shape[0])))\n",
    "\n",
    "plt.scatter(squashed_secs_to_hours(test_dataset), squashed_labels_to_labels(test_labels))\n",
    "plt.plot(squashed_secs_to_hours(test_dataset), predicted_test, color='green')\n",
    "plt.show()"
   ]
  }
 ],
 "metadata": {
  "colab": {
   "default_view": {},
   "name": "6_lstm.ipynb",
   "provenance": [],
   "version": "0.3.2",
   "views": {}
  },
  "kernelspec": {
   "display_name": "Python 3",
   "language": "python",
   "name": "python3"
  },
  "language_info": {
   "codemirror_mode": {
    "name": "ipython",
    "version": 3
   },
   "file_extension": ".py",
   "mimetype": "text/x-python",
   "name": "python",
   "nbconvert_exporter": "python",
   "pygments_lexer": "ipython3",
   "version": "3.6.1"
  }
 },
 "nbformat": 4,
 "nbformat_minor": 1
}
