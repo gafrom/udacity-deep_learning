{
 "cells": [
  {
   "cell_type": "markdown",
   "metadata": {
    "colab_type": "text",
    "id": "8tQJd2YSCfWR"
   },
   "source": []
  },
  {
   "cell_type": "markdown",
   "metadata": {
    "colab_type": "text",
    "id": "D7tqLMoKF6uq"
   },
   "source": [
    "HighTime - Web traffic analysis neural model\n",
    "=============\n",
    "<span style=\"color: lightsteelblue;\">Deep Learning</span>\n",
    "\n",
    "The goal of this assignment is to train a simple DNN model to make predictions over web traffic."
   ]
  },
  {
   "cell_type": "code",
   "execution_count": 1,
   "metadata": {
    "cellView": "both",
    "colab": {
     "autoexec": {
      "startup": false,
      "wait_interval": 0
     }
    },
    "colab_type": "code",
    "collapsed": true,
    "id": "MvEblsgEXxrd"
   },
   "outputs": [],
   "source": [
    "# These are all the modules we'll be using later. Make sure you can import them\n",
    "# before proceeding further.\n",
    "from __future__ import print_function\n",
    "import os\n",
    "import numpy as np\n",
    "import random\n",
    "import string\n",
    "import tensorflow as tf\n",
    "import zipfile\n",
    "from six.moves import range\n",
    "from six.moves.urllib.request import urlretrieve\n",
    "import matplotlib.pyplot as plt"
   ]
  },
  {
   "cell_type": "markdown",
   "metadata": {},
   "source": [
    "Let us mimic real traffic data by using normal distribution:"
   ]
  },
  {
   "cell_type": "code",
   "execution_count": 2,
   "metadata": {
    "cellView": "both",
    "colab": {
     "autoexec": {
      "startup": false,
      "wait_interval": 0
     },
     "output_extras": [
      {
       "item_id": 1
      }
     ]
    },
    "colab_type": "code",
    "executionInfo": {
     "elapsed": 5993,
     "status": "ok",
     "timestamp": 1445965582896,
     "user": {
      "color": "#1FA15D",
      "displayName": "Vincent Vanhoucke",
      "isAnonymous": false,
      "isMe": true,
      "permissionId": "05076109866853157986",
      "photoUrl": "//lh6.googleusercontent.com/-cCJa7dTDcgQ/AAAAAAAAAAI/AAAAAAAACgw/r2EZ_8oYer4/s50-c-k-no/photo.jpg",
      "sessionId": "6f6f07b359200c46",
      "userId": "102167687554210253930"
     },
     "user_tz": 420
    },
    "id": "RJ-o3UBUFtCw",
    "outputId": "d530534e-0791-4a94-ca6d-1c8f1b908a9e"
   },
   "outputs": [
    {
     "name": "stdout",
     "output_type": "stream",
     "text": [
      "[ 11  15  32  54  93 114 178 261 333 425 449 530 499 457 397 319 262 214]\n"
     ]
    },
    {
     "data": {
      "image/png": "[encoded data removed]",
      "text/plain": [
       "<matplotlib.figure.Figure at 0x10b714780>"
      ]
     },
     "metadata": {},
     "output_type": "display_data"
    }
   ],
   "source": [
    "def fake_train(batch_size=24):\n",
    "  assert batch_size > 0 and batch_size < 25\n",
    "  normal = np.random.normal(12, 4, 5000)\n",
    "  train = np.arange(batch_size)\n",
    "\n",
    "  for i in range(0, batch_size):\n",
    "    count = 0\n",
    "    for p in normal:\n",
    "      if (p >= i and p < i + 1):\n",
    "        count += 1\n",
    "    train[i] = count\n",
    "  return train\n",
    "\n",
    "example = fake_train(18)\n",
    "print(example)\n",
    "\n",
    "plt.plot(range(0, 18), example)\n",
    "plt.show()"
   ]
  },
  {
   "cell_type": "markdown",
   "metadata": {
    "colab_type": "text",
    "id": "lFwoyygOmWsL"
   },
   "source": [
    "Function to generate a training batch:"
   ]
  },
  {
   "cell_type": "code",
   "execution_count": 3,
   "metadata": {
    "cellView": "both",
    "colab": {
     "autoexec": {
      "startup": false,
      "wait_interval": 0
     },
     "output_extras": [
      {
       "item_id": 1
      }
     ]
    },
    "colab_type": "code",
    "collapsed": true,
    "executionInfo": {
     "elapsed": 6473,
     "status": "ok",
     "timestamp": 1445965583467,
     "user": {
      "color": "#1FA15D",
      "displayName": "Vincent Vanhoucke",
      "isAnonymous": false,
      "isMe": true,
      "permissionId": "05076109866853157986",
      "photoUrl": "//lh6.googleusercontent.com/-cCJa7dTDcgQ/AAAAAAAAAAI/AAAAAAAACgw/r2EZ_8oYer4/s50-c-k-no/photo.jpg",
      "sessionId": "6f6f07b359200c46",
      "userId": "102167687554210253930"
     },
     "user_tz": 420
    },
    "id": "d9wMtjy5hCj9",
    "outputId": "3dd79c80-454a-4be0-8b71-4a4a357b3367"
   },
   "outputs": [],
   "source": [
    "class BatchGenerator(object):\n",
    "  def __init__(self, feature_size, batch_size):\n",
    "    self._batch_size = batch_size\n",
    "    self._feature_size = feature_size\n",
    "\n",
    "  def spit(self):\n",
    "    labels = fake_train(self._batch_size).reshape([self._batch_size, 1])\n",
    "    train = np.zeros((self._batch_size, self._feature_size), dtype=np.float32)\n",
    "    np.fill_diagonal(train, 1)\n",
    "\n",
    "    return train, labels"
   ]
  },
  {
   "cell_type": "markdown",
   "metadata": {},
   "source": [
    "Generate valid and test datasets:"
   ]
  },
  {
   "cell_type": "code",
   "execution_count": 4,
   "metadata": {},
   "outputs": [
    {
     "name": "stdout",
     "output_type": "stream",
     "text": [
      "data (hour) = [1 0 0 0 0 0 0 0 0 0 0 0 0 0 0 0 0 0 0 0 0 0 0 0] => 9 rps\n",
      "data (hour) = [0 1 0 0 0 0 0 0 0 0 0 0 0 0 0 0 0 0 0 0 0 0 0 0] => 23 rps\n",
      "data (hour) = [0 0 1 0 0 0 0 0 0 0 0 0 0 0 0 0 0 0 0 0 0 0 0 0] => 25 rps\n",
      "data (hour) = [0 0 0 1 0 0 0 0 0 0 0 0 0 0 0 0 0 0 0 0 0 0 0 0] => 43 rps\n",
      "data (hour) = [0 0 0 0 1 0 0 0 0 0 0 0 0 0 0 0 0 0 0 0 0 0 0 0] => 105 rps\n",
      "data (hour) = [0 0 0 0 0 1 0 0 0 0 0 0 0 0 0 0 0 0 0 0 0 0 0 0] => 142 rps\n",
      "data (hour) = [0 0 0 0 0 0 1 0 0 0 0 0 0 0 0 0 0 0 0 0 0 0 0 0] => 194 rps\n",
      "data (hour) = [0 0 0 0 0 0 0 1 0 0 0 0 0 0 0 0 0 0 0 0 0 0 0 0] => 256 rps\n",
      "data (hour) = [0 0 0 0 0 0 0 0 1 0 0 0 0 0 0 0 0 0 0 0 0 0 0 0] => 314 rps\n",
      "data (hour) = [0 0 0 0 0 0 0 0 0 1 0 0 0 0 0 0 0 0 0 0 0 0 0 0] => 405 rps\n",
      "data (hour) = [0 0 0 0 0 0 0 0 0 0 1 0 0 0 0 0 0 0 0 0 0 0 0 0] => 448 rps\n",
      "data (hour) = [0 0 0 0 0 0 0 0 0 0 0 1 0 0 0 0 0 0 0 0 0 0 0 0] => 517 rps\n",
      "data (hour) = [0 0 0 0 0 0 0 0 0 0 0 0 1 0 0 0 0 0 0 0 0 0 0 0] => 524 rps\n",
      "data (hour) = [0 0 0 0 0 0 0 0 0 0 0 0 0 1 0 0 0 0 0 0 0 0 0 0] => 449 rps\n",
      "data (hour) = [0 0 0 0 0 0 0 0 0 0 0 0 0 0 1 0 0 0 0 0 0 0 0 0] => 400 rps\n",
      "data (hour) = [0 0 0 0 0 0 0 0 0 0 0 0 0 0 0 1 0 0 0 0 0 0 0 0] => 356 rps\n",
      "data (hour) = [0 0 0 0 0 0 0 0 0 0 0 0 0 0 0 0 1 0 0 0 0 0 0 0] => 264 rps\n",
      "data (hour) = [0 0 0 0 0 0 0 0 0 0 0 0 0 0 0 0 0 1 0 0 0 0 0 0] => 195 rps\n",
      "data (hour) = [0 0 0 0 0 0 0 0 0 0 0 0 0 0 0 0 0 0 1 0 0 0 0 0] => 132 rps\n",
      "data (hour) = [0 0 0 0 0 0 0 0 0 0 0 0 0 0 0 0 0 0 0 1 0 0 0 0] => 86 rps\n",
      "data (hour) = [0 0 0 0 0 0 0 0 0 0 0 0 0 0 0 0 0 0 0 0 1 0 0 0] => 55 rps\n",
      "data (hour) = [0 0 0 0 0 0 0 0 0 0 0 0 0 0 0 0 0 0 0 0 0 1 0 0] => 26 rps\n",
      "data (hour) = [0 0 0 0 0 0 0 0 0 0 0 0 0 0 0 0 0 0 0 0 0 0 1 0] => 15 rps\n",
      "data (hour) = [0 0 0 0 0 0 0 0 0 0 0 0 0 0 0 0 0 0 0 0 0 0 0 1] => 10 rps\n"
     ]
    }
   ],
   "source": [
    "feature_size = 24 # 24 hours per day\n",
    "\n",
    "generator = BatchGenerator(feature_size, 24)\n",
    "\n",
    "valid_dataset, valid_labels = generator.spit()\n",
    "test_dataset, test_labels = generator.spit()\n",
    "\n",
    "np.set_printoptions(formatter={'float': '{0:g}'.format})\n",
    "for vector, label in list(zip(test_dataset, test_labels)):\n",
    "  print('data (hour) = %s => %d rps' % (vector, label))"
   ]
  },
  {
   "cell_type": "markdown",
   "metadata": {
    "colab_type": "text",
    "id": "K8f67YXaDr4C"
   },
   "source": [
    "Simple NN Model."
   ]
  },
  {
   "cell_type": "code",
   "execution_count": 5,
   "metadata": {
    "cellView": "both",
    "colab": {
     "autoexec": {
      "startup": false,
      "wait_interval": 0
     }
    },
    "colab_type": "code",
    "collapsed": true,
    "id": "Q5rxZK6RDuGe"
   },
   "outputs": [],
   "source": [
    "num_labels = 1 # label dimension\n",
    "batch_size = 18\n",
    "learning_rate = 0.5\n",
    "\n",
    "graph = tf.Graph()\n",
    "with graph.as_default():\n",
    "  # Input data. For the training data, we use a placeholder that will be fed\n",
    "  # at run time with a training minibatch.\n",
    "  X = tf.placeholder(tf.float32, shape=(batch_size, feature_size))\n",
    "  Y = tf.placeholder(tf.float32, shape=(batch_size, num_labels))\n",
    "\n",
    "  tf_test_dataset = tf.constant(test_dataset)\n",
    "  predict_data = tf.placeholder(tf.float32, shape=(num_labels, feature_size))\n",
    "\n",
    "  # Variables.\n",
    "  weights = tf.Variable(tf.ones([feature_size, num_labels]))\n",
    "  biases = tf.Variable(tf.zeros([num_labels]))\n",
    "\n",
    "  # Training computation.\n",
    "  y = tf.matmul(X, weights) + biases\n",
    "  loss = tf.reduce_mean(tf.square(y - Y))\n",
    "\n",
    "  # Optimizer.\n",
    "  optimizer = tf.train.GradientDescentOptimizer(learning_rate).minimize(loss)\n",
    "\n",
    "  # Predictions for the training, test and real data.\n",
    "  train_prediction = y\n",
    "  test_prediction = tf.matmul(tf_test_dataset, weights) + biases\n",
    "  prediction = tf.matmul(predict_data, weights) + biases"
   ]
  },
  {
   "cell_type": "code",
   "execution_count": 20,
   "metadata": {
    "cellView": "both",
    "colab": {
     "autoexec": {
      "startup": false,
      "wait_interval": 0
     },
     "output_extras": [
      {
       "item_id": 41
      },
      {
       "item_id": 80
      },
      {
       "item_id": 126
      },
      {
       "item_id": 144
      }
     ]
    },
    "colab_type": "code",
    "executionInfo": {
     "elapsed": 199909,
     "status": "ok",
     "timestamp": 1445965877333,
     "user": {
      "color": "#1FA15D",
      "displayName": "Vincent Vanhoucke",
      "isAnonymous": false,
      "isMe": true,
      "permissionId": "05076109866853157986",
      "photoUrl": "//lh6.googleusercontent.com/-cCJa7dTDcgQ/AAAAAAAAAAI/AAAAAAAACgw/r2EZ_8oYer4/s50-c-k-no/photo.jpg",
      "sessionId": "6f6f07b359200c46",
      "userId": "102167687554210253930"
     },
     "user_tz": 420
    },
    "id": "RD9zQCZTEaEm",
    "outputId": "5e868466-2532-4545-ce35-b403cf5d9de6"
   },
   "outputs": [
    {
     "name": "stdout",
     "output_type": "stream",
     "text": [
      "Initialized\n",
      "Minibatch loss at step 0: 95823.218750\n",
      "Minibatch accuracy: 100.0%\n",
      "Test accuracy: 100.0%\n",
      "Minibatch loss at step 50: 249.997177\n",
      "Minibatch accuracy: 100.0%\n",
      "Test accuracy: 100.0%\n",
      "Minibatch loss at step 100: 228.803894\n",
      "Minibatch accuracy: 100.0%\n",
      "Test accuracy: 100.0%\n",
      "Minibatch loss at step 150: 287.294647\n",
      "Minibatch accuracy: 100.0%\n",
      "Test accuracy: 100.0%\n",
      "Minibatch loss at step 200: 290.885620\n",
      "Minibatch accuracy: 100.0%\n",
      "Test accuracy: 100.0%\n",
      "Minibatch loss at step 250: 442.346741\n",
      "Minibatch accuracy: 100.0%\n",
      "Test accuracy: 100.0%\n",
      "Minibatch loss at step 300: 597.037231\n",
      "Minibatch accuracy: 100.0%\n",
      "Test accuracy: 100.0%\n",
      "Minibatch loss at step 350: 212.155167\n",
      "Minibatch accuracy: 100.0%\n",
      "Test accuracy: 100.0%\n",
      "Minibatch loss at step 400: 188.232941\n",
      "Minibatch accuracy: 100.0%\n",
      "Test accuracy: 100.0%\n",
      "Minibatch loss at step 450: 196.081665\n",
      "Minibatch accuracy: 100.0%\n",
      "Test accuracy: 100.0%\n",
      "Minibatch loss at step 500: 210.015778\n",
      "Minibatch accuracy: 100.0%\n",
      "Test accuracy: 100.0%\n",
      "Minibatch loss at step 550: 125.484406\n",
      "Minibatch accuracy: 100.0%\n",
      "Test accuracy: 100.0%\n",
      "Minibatch loss at step 600: 470.011383\n",
      "Minibatch accuracy: 100.0%\n",
      "Test accuracy: 100.0%\n",
      "Minibatch loss at step 650: 234.514435\n",
      "Minibatch accuracy: 100.0%\n",
      "Test accuracy: 100.0%\n",
      "Minibatch loss at step 700: 270.762543\n",
      "Minibatch accuracy: 100.0%\n",
      "Test accuracy: 100.0%\n",
      "Minibatch loss at step 750: 374.087189\n",
      "Minibatch accuracy: 100.0%\n",
      "Test accuracy: 100.0%\n",
      "Minibatch loss at step 800: 387.375854\n",
      "Minibatch accuracy: 100.0%\n",
      "Test accuracy: 100.0%\n",
      "Minibatch loss at step 850: 157.980499\n",
      "Minibatch accuracy: 100.0%\n",
      "Test accuracy: 100.0%\n",
      "Minibatch loss at step 900: 76.525597\n",
      "Minibatch accuracy: 100.0%\n",
      "Test accuracy: 100.0%\n",
      "Minibatch loss at step 950: 125.195503\n",
      "Minibatch accuracy: 100.0%\n",
      "Test accuracy: 100.0%\n",
      "Minibatch loss at step 1000: 250.510925\n",
      "Minibatch accuracy: 100.0%\n",
      "Test accuracy: 100.0%\n"
     ]
    }
   ],
   "source": [
    "num_steps = 1001\n",
    "generator = BatchGenerator(feature_size, batch_size)\n",
    "\n",
    "def accuracy(predictions, labels):\n",
    "  return (100.0 * np.sum(np.argmax(predictions, 1) == np.argmax(labels, 1))\n",
    "          / predictions.shape[0])\n",
    "\n",
    "session = tf.Session(graph=graph)\n",
    "\n",
    "with graph.as_default():\n",
    "  with session.as_default():\n",
    "    tf.global_variables_initializer().run()\n",
    "    print(\"Initialized\")\n",
    "    for step in range(num_steps):\n",
    "      batch_data, batch_labels = generator.spit()\n",
    "      # Prepare a dictionary telling the session where to feed the minibatch.\n",
    "      # The key of the dictionary is the placeholder node of the graph to be fed,\n",
    "      # and the value is the numpy array to feed to it.\n",
    "      feed_dict = {X : batch_data, Y : batch_labels}\n",
    "      _, l, predictions = session.run(\n",
    "        [optimizer, loss, train_prediction], feed_dict=feed_dict)\n",
    "      if (step % 50 == 0):\n",
    "        print(\"Minibatch loss at step %d: %f\" % (step, l))\n",
    "        print(\"Minibatch accuracy: %.1f%%\" % accuracy(predictions, batch_labels))\n",
    "  #       print(\"Validation accuracy: %.1f%%\" % accuracy(\n",
    "  #         valid_prediction.eval(), valid_labels))\n",
    "        print(\"Test accuracy: %.1f%%\" % accuracy(test_prediction.eval(), test_labels))"
   ]
  },
  {
   "cell_type": "markdown",
   "metadata": {
    "collapsed": true
   },
   "source": [
    "Let us check it out"
   ]
  },
  {
   "cell_type": "code",
   "execution_count": 26,
   "metadata": {},
   "outputs": [
    {
     "name": "stdout",
     "output_type": "stream",
     "text": [
      "[0 0 1 0 0 0 0 0 0 0 0 0 0 0 0 0 0 0 0 0 0 0 0 0]\n",
      "[[0 0 1 0 0 0 0 0 0 0 0 0 0 0 0 0 0 0 0 0 0 0 0 0]]\n",
      "[[30.4819]]\n",
      "[[-236.781]\n",
      " [-227.074]\n",
      " [-213.407]\n",
      " [-191.762]\n",
      " [-156.939]\n",
      " [-113.058]\n",
      " [-50.7223]\n",
      " [20.6672]\n",
      " [93.8648]\n",
      " [169.288]\n",
      " [219.509]\n",
      " [246.284]\n",
      " [247.545]\n",
      " [225.996]\n",
      " [164.54]\n",
      " [95.4364]\n",
      " [19.7463]\n",
      " [-51.2459]\n",
      " [1]\n",
      " [1]\n",
      " [1]\n",
      " [1]\n",
      " [1]\n",
      " [1]] [243.889]\n"
     ]
    }
   ],
   "source": [
    "to_predict = np.zeros(feature_size)\n",
    "to_predict[2] = 1\n",
    "print(to_predict)\n",
    "data_to_predict = to_predict.reshape(1, feature_size)\n",
    "print(data_to_predict)\n",
    "\n",
    "with session.as_default():\n",
    "  print(prediction.eval(feed_dict={predict_data : data_to_predict}))\n",
    "  print(weights.eval(), biases.eval())\n",
    "\n",
    "# with tf.Session(graph=graph) as session:\n",
    "#   tf.global_variables_initializer().run()\n",
    "#   print(\"Initialized\")\n",
    "\n",
    "#   feed_dict = {predict_data : data_to_predict}\n",
    "#   real_prediction = session.run(prediction, feed_dict=feed_dict)\n",
    "# #   print(real_prediction)"
   ]
  },
  {
   "cell_type": "code",
   "execution_count": null,
   "metadata": {
    "collapsed": true
   },
   "outputs": [],
   "source": []
  },
  {
   "cell_type": "code",
   "execution_count": null,
   "metadata": {
    "collapsed": true
   },
   "outputs": [],
   "source": []
  }
 ],
 "metadata": {
  "colab": {
   "default_view": {},
   "name": "6_lstm.ipynb",
   "provenance": [],
   "version": "0.3.2",
   "views": {}
  },
  "kernelspec": {
   "display_name": "Python 3",
   "language": "python",
   "name": "python3"
  },
  "language_info": {
   "codemirror_mode": {
    "name": "ipython",
    "version": 3
   },
   "file_extension": ".py",
   "mimetype": "text/x-python",
   "name": "python",
   "nbconvert_exporter": "python",
   "pygments_lexer": "ipython3",
   "version": "3.6.1"
  }
 },
 "nbformat": 4,
 "nbformat_minor": 1
}
