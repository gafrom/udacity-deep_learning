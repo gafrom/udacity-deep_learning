{
 "cells": [
  {
   "cell_type": "markdown",
   "metadata": {
    "colab_type": "text",
    "id": "8tQJd2YSCfWR"
   },
   "source": []
  },
  {
   "cell_type": "markdown",
   "metadata": {
    "colab_type": "text",
    "id": "D7tqLMoKF6uq"
   },
   "source": [
    "HighTime - Web traffic analysis neural model\n",
    "=============\n",
    "<span style=\"color: lightsteelblue;\">Deep Learning</span>\n",
    "\n",
    "The goal of this assignment is to train a simple DNN model to make predictions over web traffic."
   ]
  },
  {
   "cell_type": "code",
   "execution_count": 1,
   "metadata": {
    "cellView": "both",
    "colab": {
     "autoexec": {
      "startup": false,
      "wait_interval": 0
     }
    },
    "colab_type": "code",
    "collapsed": true,
    "id": "MvEblsgEXxrd"
   },
   "outputs": [],
   "source": [
    "# These are all the modules we'll be using later. Make sure you can import them\n",
    "# before proceeding further.\n",
    "from __future__ import print_function\n",
    "import os\n",
    "import numpy as np\n",
    "import random\n",
    "import string\n",
    "import tensorflow as tf\n",
    "import zipfile\n",
    "from six.moves import range\n",
    "from six.moves.urllib.request import urlretrieve\n",
    "import matplotlib.pyplot as plt"
   ]
  },
  {
   "cell_type": "markdown",
   "metadata": {},
   "source": [
    "Let us mimic real traffic data by using normal distribution:"
   ]
  },
  {
   "cell_type": "code",
   "execution_count": 2,
   "metadata": {
    "cellView": "both",
    "colab": {
     "autoexec": {
      "startup": false,
      "wait_interval": 0
     },
     "output_extras": [
      {
       "item_id": 1
      }
     ]
    },
    "colab_type": "code",
    "executionInfo": {
     "elapsed": 5993,
     "status": "ok",
     "timestamp": 1445965582896,
     "user": {
      "color": "#1FA15D",
      "displayName": "Vincent Vanhoucke",
      "isAnonymous": false,
      "isMe": true,
      "permissionId": "05076109866853157986",
      "photoUrl": "//lh6.googleusercontent.com/-cCJa7dTDcgQ/AAAAAAAAAAI/AAAAAAAACgw/r2EZ_8oYer4/s50-c-k-no/photo.jpg",
      "sessionId": "6f6f07b359200c46",
      "userId": "102167687554210253930"
     },
     "user_tz": 420
    },
    "id": "RJ-o3UBUFtCw",
    "outputId": "d530534e-0791-4a94-ca6d-1c8f1b908a9e"
   },
   "outputs": [
    {
     "data": {
      "image/png": "[encoded data removed]",
      "text/plain": [
       "<matplotlib.figure.Figure at 0x1183aad30>"
      ]
     },
     "metadata": {},
     "output_type": "display_data"
    }
   ],
   "source": [
    "total_seconds = 24 * 3600\n",
    "total_rps = 1000\n",
    "\n",
    "def gaussian(x, mu = 0, sig = 1):\n",
    "    return np.exp(-np.power(x - mu, 2.) / (2 * np.power(sig, 2.)))\n",
    "\n",
    "def rps(x):\n",
    "  return (gaussian(x, total_seconds/2, 12000) * 5 - gaussian(x, total_seconds/2, 10000) * 4 ) * 500 + 50\n",
    "\n",
    "def fake_train(batch_size=100):\n",
    "  x = np.linspace(0, total_seconds, batch_size)\n",
    "  return x, rps(x)\n",
    "\n",
    "x = np.linspace(0, total_seconds, 120)\n",
    "plt.plot(x, rps(x))\n",
    "plt.scatter(fake_train(18)[0], fake_train(18)[1], color='red')\n",
    "plt.show()"
   ]
  },
  {
   "cell_type": "markdown",
   "metadata": {
    "colab_type": "text",
    "id": "lFwoyygOmWsL"
   },
   "source": [
    "Function to generate a training batch:"
   ]
  },
  {
   "cell_type": "code",
   "execution_count": 3,
   "metadata": {
    "cellView": "both",
    "colab": {
     "autoexec": {
      "startup": false,
      "wait_interval": 0
     },
     "output_extras": [
      {
       "item_id": 1
      }
     ]
    },
    "colab_type": "code",
    "collapsed": true,
    "executionInfo": {
     "elapsed": 6473,
     "status": "ok",
     "timestamp": 1445965583467,
     "user": {
      "color": "#1FA15D",
      "displayName": "Vincent Vanhoucke",
      "isAnonymous": false,
      "isMe": true,
      "permissionId": "05076109866853157986",
      "photoUrl": "//lh6.googleusercontent.com/-cCJa7dTDcgQ/AAAAAAAAAAI/AAAAAAAACgw/r2EZ_8oYer4/s50-c-k-no/photo.jpg",
      "sessionId": "6f6f07b359200c46",
      "userId": "102167687554210253930"
     },
     "user_tz": 420
    },
    "id": "d9wMtjy5hCj9",
    "outputId": "3dd79c80-454a-4be0-8b71-4a4a357b3367"
   },
   "outputs": [],
   "source": [
    "def secs_to_time(time_in_seconds):\n",
    "  hours = time_in_seconds // 3600\n",
    "  minutes = (time_in_seconds - hours * 3600) // 60\n",
    "  seconds = time_in_seconds - hours * 3600 - minutes * 60\n",
    "  return hours, minutes, seconds\n",
    "\n",
    "def time_to_secs(hour, minutes, seconds):\n",
    "  return hour * 3600 + minutes * 60 + seconds\n",
    "\n",
    "def time_to_squashed_secs(hour, minutes, seconds):\n",
    "  return time_to_secs(hour, minutes, seconds) / total_seconds\n",
    "\n",
    "def secs_to_string(sec):\n",
    "  result = ':'.join([('%d' % i) for i in secs_to_time(sec)])\n",
    "  return result + (' (%dth second)' % sec)\n",
    "\n",
    "def squashed_secs_to_string(sq_sec):\n",
    "  return secs_to_string(sq_sec * total_seconds / 10)\n",
    "\n",
    "def squashed_secs_to_hours(sq_secs):\n",
    "  return [sq_sec * 24 for sq_sec in sq_secs]\n",
    "\n",
    "def squashed_label_to_label(sq_label):\n",
    "  return sq_label * total_rps\n",
    "\n",
    "def squashed_labels_to_labels(sq_labels):\n",
    "  return [sq_label * total_rps for sq_label in sq_labels]\n",
    "\n",
    "class BatchGenerator(object):\n",
    "  def __init__(self, batch_size):\n",
    "    self._batch_size = batch_size\n",
    "\n",
    "  def spit(self):\n",
    "    dataset = np.random.uniform(0, total_seconds, self._batch_size)\n",
    "    labels  = rps(dataset)\n",
    "\n",
    "    dataset = (10 * dataset / total_seconds).reshape(self._batch_size, 1)\n",
    "    labels  = (labels  / total_rps    ).reshape(self._batch_size, 1)\n",
    "\n",
    "    return dataset, labels"
   ]
  },
  {
   "cell_type": "markdown",
   "metadata": {},
   "source": [
    "Generate valid and test datasets:"
   ]
  },
  {
   "cell_type": "code",
   "execution_count": 4,
   "metadata": {},
   "outputs": [
    {
     "name": "stdout",
     "output_type": "stream",
     "text": [
      "Test size: %s (120, 1)\n",
      "Ten test pairs as an example:\n",
      "Time 0:0:52 (52th second) => 53.71 rps\n",
      "Time 0:2:3 (123th second) => 53.79 rps\n",
      "Time 0:4:1 (241th second) => 53.92 rps\n",
      "Time 1:14:51 (4491th second) => 62.64 rps\n",
      "Time 1:31:25 (5485th second) => 66.28 rps\n",
      "Time 1:36:23 (5783th second) => 67.53 rps\n",
      "Time 1:55:40 (6940th second) => 73.23 rps\n",
      "Time 1:58:9 (7089th second) => 74.07 rps\n",
      "Time 2:8:4 (7684th second) => 77.68 rps\n",
      "Time 2:16:41 (8201th second) => 81.17 rps\n"
     ]
    },
    {
     "data": {
      "image/png": "[encoded data removed]",
      "text/plain": [
       "<matplotlib.figure.Figure at 0x1183aac18>"
      ]
     },
     "metadata": {},
     "output_type": "display_data"
    }
   ],
   "source": [
    "generator = BatchGenerator(120)\n",
    "\n",
    "# Test dataset\n",
    "test_dataset, test_labels = generator.spit()\n",
    "# sort it for a nice view\n",
    "sorting = np.array([test_dataset, test_labels]).reshape(2, -1).T\n",
    "sorting = sorting[np.argsort(sorting[:, 0])]\n",
    "test_dataset, test_labels = sorting.T.reshape(2, -1, 1)\n",
    "\n",
    "print('Test size: %s', test_dataset.shape)\n",
    "print('Ten test pairs as an example:')\n",
    "\n",
    "for sec, label in list(zip(test_dataset, test_labels))[:10]:\n",
    "  print('Time %s => %03.2f rps' % (squashed_secs_to_string(sec), squashed_label_to_label(label)))\n",
    "  \n",
    "plt.scatter(test_dataset, test_labels)\n",
    "plt.show()"
   ]
  },
  {
   "cell_type": "markdown",
   "metadata": {
    "colab_type": "text",
    "id": "K8f67YXaDr4C"
   },
   "source": [
    "Simple NN Model with one hidden layer and ReLU activation function."
   ]
  },
  {
   "cell_type": "code",
   "execution_count": 15,
   "metadata": {
    "cellView": "both",
    "colab": {
     "autoexec": {
      "startup": false,
      "wait_interval": 0
     }
    },
    "colab_type": "code",
    "collapsed": true,
    "id": "Q5rxZK6RDuGe"
   },
   "outputs": [],
   "source": [
    "feature_size = 1 # number of features to feed input\n",
    "num_labels = 1 # number of output labels\n",
    "num_hidden_nodes = 25\n",
    "num_hidden_nodes2 = 20\n",
    "num_hidden_nodes3 = 15\n",
    "batch_size = 20\n",
    "learning_rate = 0.005\n",
    "\n",
    "graph = tf.Graph()\n",
    "with graph.as_default():\n",
    "  # Input data. For the training data, we use a placeholder that will be fed\n",
    "  # at run time with a training minibatch.\n",
    "  x = tf.placeholder(tf.float32, shape=(batch_size, feature_size))\n",
    "  y = tf.placeholder(tf.float32, shape=(batch_size, 1))\n",
    "  tf_test_data = tf.placeholder(tf.float32, shape=(None, feature_size))\n",
    "\n",
    "  # Hidden layer variables\n",
    "  weights1 = tf.Variable(tf.truncated_normal([feature_size, num_hidden_nodes]))\n",
    "  biases1  = tf.Variable(tf.zeros([num_hidden_nodes]))\n",
    "\n",
    "  weights2 = tf.Variable(tf.truncated_normal([num_hidden_nodes, num_hidden_nodes2]))\n",
    "  biases2  = tf.Variable(tf.zeros([num_hidden_nodes2]))\n",
    "  \n",
    "  weights3 = tf.Variable(tf.truncated_normal([num_hidden_nodes2, num_hidden_nodes3]))\n",
    "  biases3  = tf.Variable(tf.zeros([num_hidden_nodes3]))\n",
    "\n",
    "  # Variables.\n",
    "  weights4 = tf.Variable(tf.truncated_normal([num_hidden_nodes3, num_labels]))\n",
    "  biases4  = tf.Variable(tf.zeros([num_labels]))\n",
    "\n",
    "  # Training computation.\n",
    "  z0 = tf.matmul(x, weights1) + biases1\n",
    "  a0 = tf.nn.sigmoid(z0)\n",
    "  \n",
    "  z1 = tf.matmul(a0, weights2) + biases2\n",
    "  a1 = tf.nn.relu(z1)\n",
    "  \n",
    "  z2 = tf.matmul(a1, weights3) + biases3\n",
    "  a2 = tf.nn.relu(z2)\n",
    "\n",
    "  z3 = tf.matmul(a2, weights4) + biases4\n",
    "  a3 = z3\n",
    "  error = a3 - y\n",
    "  loss = tf.reduce_mean(tf.square(error))\n",
    "\n",
    "  # Optimizer.\n",
    "  optimizer = tf.train.GradientDescentOptimizer(learning_rate).minimize(loss)\n",
    "\n",
    "  # Prediction for test data.\n",
    "  tf_prediction_hidden = tf.nn.sigmoid(tf.matmul(tf_test_data, weights1) + biases1)\n",
    "  tf_prediction_hidden2 = tf.nn.relu(tf.matmul(tf_prediction_hidden, weights2) + biases2)\n",
    "  tf_prediction_hidden3 = tf.nn.relu(tf.matmul(tf_prediction_hidden2, weights3) + biases3)\n",
    "  tf_prediction        = tf.matmul(tf_prediction_hidden3, weights4) + biases4"
   ]
  },
  {
   "cell_type": "code",
   "execution_count": 16,
   "metadata": {},
   "outputs": [
    {
     "name": "stdout",
     "output_type": "stream",
     "text": [
      "Initialized\n",
      "Minibatch loss at step 0: 32.995403\n",
      "Minibatch loss at step 1000: 0.007788\n",
      "Minibatch loss at step 2000: 0.006232\n",
      "Minibatch loss at step 3000: 0.001103\n",
      "Minibatch loss at step 4000: 0.001147\n",
      "Minibatch loss at step 5000: 0.000281\n",
      "Minibatch loss at step 6000: 0.000572\n",
      "Minibatch loss at step 7000: 0.000415\n",
      "Minibatch loss at step 8000: 0.000080\n",
      "Minibatch loss at step 9000: 0.000211\n",
      "Minibatch loss at step 10000: 0.000223\n",
      "Minibatch loss at step 11000: 0.000149\n",
      "Minibatch loss at step 12000: 0.000168\n",
      "Minibatch loss at step 13000: 0.000247\n",
      "Minibatch loss at step 14000: 0.000130\n",
      "Minibatch loss at step 15000: 0.000133\n",
      "Minibatch loss at step 16000: 0.000203\n",
      "Minibatch loss at step 17000: 0.000113\n",
      "Minibatch loss at step 18000: 0.000131\n",
      "Minibatch loss at step 19000: 0.000263\n",
      "Minibatch loss at step 20000: 0.000139\n",
      "Minibatch loss at step 21000: 0.000193\n",
      "Minibatch loss at step 22000: 0.000155\n",
      "Minibatch loss at step 23000: 0.000129\n",
      "Minibatch loss at step 24000: 0.000044\n",
      "Minibatch loss at step 25000: 0.000231\n",
      "Minibatch loss at step 26000: 0.000122\n",
      "Minibatch loss at step 27000: 0.000076\n",
      "Minibatch loss at step 28000: 0.000043\n",
      "Minibatch loss at step 29000: 0.000172\n",
      "Minibatch loss at step 30000: 0.000173\n",
      "Minibatch loss at step 31000: 0.000125\n",
      "Minibatch loss at step 32000: 0.000112\n",
      "Minibatch loss at step 33000: 0.000102\n",
      "Minibatch loss at step 34000: 0.000143\n",
      "Minibatch loss at step 35000: 0.000118\n",
      "Minibatch loss at step 36000: 0.000123\n",
      "Minibatch loss at step 37000: 0.000111\n",
      "Minibatch loss at step 38000: 0.000125\n",
      "Minibatch loss at step 39000: 0.000119\n",
      "Minibatch loss at step 40000: 0.000081\n",
      "Minibatch loss at step 41000: 0.000087\n",
      "Minibatch loss at step 42000: 0.000167\n",
      "Minibatch loss at step 43000: 0.000049\n",
      "Minibatch loss at step 44000: 0.000102\n",
      "Minibatch loss at step 45000: 0.000085\n",
      "Minibatch loss at step 46000: 0.000037\n",
      "Minibatch loss at step 47000: 0.000076\n",
      "Minibatch loss at step 48000: 0.000082\n",
      "Minibatch loss at step 49000: 0.000071\n",
      "Minibatch loss at step 50000: 0.000130\n"
     ]
    }
   ],
   "source": [
    "num_steps = 50051\n",
    "generator = BatchGenerator(batch_size)\n",
    "\n",
    "def accuracy(predictions, labels):\n",
    "  return (100.0 * np.sum(np.argmax(predictions, 1) == np.argmax(labels))\n",
    "          / predictions.shape[0])\n",
    "\n",
    "session = tf.Session(graph=graph)\n",
    "\n",
    "with graph.as_default():\n",
    "  with session.as_default():\n",
    "    tf.global_variables_initializer().run()\n",
    "    print(\"Initialized\")\n",
    "    for step in range(num_steps):\n",
    "      batch_data, batch_labels = generator.spit()\n",
    "      feed_dict = {x : batch_data, y : batch_labels}\n",
    "      _, l = session.run(\n",
    "        [optimizer, loss], feed_dict=feed_dict)\n",
    "\n",
    "      if (step % 1000 == 0):\n",
    "        print(\"Minibatch loss at step %d: %f\" % (step, l))\n",
    "    predicted = tf_prediction.eval(feed_dict={tf_test_data: test_dataset})\n",
    "\n",
    "session.close()"
   ]
  },
  {
   "cell_type": "code",
   "execution_count": 17,
   "metadata": {},
   "outputs": [
    {
     "data": {
      "image/png": "[encoded data removed]",
      "text/plain": [
       "<matplotlib.figure.Figure at 0x1189e5898>"
      ]
     },
     "metadata": {},
     "output_type": "display_data"
    }
   ],
   "source": [
    "predicted_test = np.array(squashed_labels_to_labels(predicted.reshape(predicted.shape[0])))\n",
    "\n",
    "plt.scatter(squashed_secs_to_hours(test_dataset), squashed_labels_to_labels(test_labels))\n",
    "plt.plot(squashed_secs_to_hours(test_dataset), predicted_test, color='green')\n",
    "plt.show()"
   ]
  },
  {
   "cell_type": "markdown",
   "metadata": {},
   "source": [
    "Let us ensure that Generator spits evenly:"
   ]
  },
  {
   "cell_type": "code",
   "execution_count": 8,
   "metadata": {},
   "outputs": [
    {
     "data": {
      "image/png": "[encoded data removed]",
      "text/plain": [
       "<matplotlib.figure.Figure at 0x11873ff60>"
      ]
     },
     "metadata": {},
     "output_type": "display_data"
    }
   ],
   "source": [
    "figg = plt.figure()\n",
    "sp = figg.add_subplot(111)\n",
    "\n",
    "for i in range(10):\n",
    "  x, y = generator.spit()\n",
    "\n",
    "  sp.scatter(x, y)\n",
    "plt.show()"
   ]
  }
 ],
 "metadata": {
  "colab": {
   "default_view": {},
   "name": "6_lstm.ipynb",
   "provenance": [],
   "version": "0.3.2",
   "views": {}
  },
  "kernelspec": {
   "display_name": "Python 3",
   "language": "python",
   "name": "python3"
  },
  "language_info": {
   "codemirror_mode": {
    "name": "ipython",
    "version": 3
   },
   "file_extension": ".py",
   "mimetype": "text/x-python",
   "name": "python",
   "nbconvert_exporter": "python",
   "pygments_lexer": "ipython3",
   "version": "3.6.1"
  }
 },
 "nbformat": 4,
 "nbformat_minor": 1
}
