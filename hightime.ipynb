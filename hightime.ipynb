{
 "cells": [
  {
   "cell_type": "markdown",
   "metadata": {
    "colab_type": "text",
    "id": "8tQJd2YSCfWR"
   },
   "source": []
  },
  {
   "cell_type": "markdown",
   "metadata": {
    "colab_type": "text",
    "id": "D7tqLMoKF6uq"
   },
   "source": [
    "HighTime - Web traffic analysis neural model\n",
    "=============\n",
    "<span style=\"color: lightsteelblue;\">Deep Learning</span>\n",
    "\n",
    "The goal of this assignment is to train a simple DNN model to make predictions over web traffic."
   ]
  },
  {
   "cell_type": "code",
   "execution_count": 1,
   "metadata": {
    "cellView": "both",
    "colab": {
     "autoexec": {
      "startup": false,
      "wait_interval": 0
     }
    },
    "colab_type": "code",
    "collapsed": true,
    "id": "MvEblsgEXxrd"
   },
   "outputs": [],
   "source": [
    "# These are all the modules we'll be using later. Make sure you can import them\n",
    "# before proceeding further.\n",
    "from __future__ import print_function\n",
    "import os\n",
    "import numpy as np\n",
    "import random\n",
    "import string\n",
    "import tensorflow as tf\n",
    "import zipfile\n",
    "from six.moves import range\n",
    "from six.moves.urllib.request import urlretrieve\n",
    "import matplotlib.pyplot as plt"
   ]
  },
  {
   "cell_type": "markdown",
   "metadata": {},
   "source": [
    "Let us mimic real traffic data by using normal distribution:"
   ]
  },
  {
   "cell_type": "code",
   "execution_count": 2,
   "metadata": {
    "cellView": "both",
    "colab": {
     "autoexec": {
      "startup": false,
      "wait_interval": 0
     },
     "output_extras": [
      {
       "item_id": 1
      }
     ]
    },
    "colab_type": "code",
    "executionInfo": {
     "elapsed": 5993,
     "status": "ok",
     "timestamp": 1445965582896,
     "user": {
      "color": "#1FA15D",
      "displayName": "Vincent Vanhoucke",
      "isAnonymous": false,
      "isMe": true,
      "permissionId": "05076109866853157986",
      "photoUrl": "//lh6.googleusercontent.com/-cCJa7dTDcgQ/AAAAAAAAAAI/AAAAAAAACgw/r2EZ_8oYer4/s50-c-k-no/photo.jpg",
      "sessionId": "6f6f07b359200c46",
      "userId": "102167687554210253930"
     },
     "user_tz": 420
    },
    "id": "RJ-o3UBUFtCw",
    "outputId": "d530534e-0791-4a94-ca6d-1c8f1b908a9e"
   },
   "outputs": [
    {
     "name": "stdout",
     "output_type": "stream",
     "text": [
      "[  5  17  43  69  83 137 164 283 376 414 453 498 486 433 405 308 276 200]\n"
     ]
    },
    {
     "data": {
      "image/png": "[encoded data removed]",
      "text/plain": [
       "<matplotlib.figure.Figure at 0x1094e2fd0>"
      ]
     },
     "metadata": {},
     "output_type": "display_data"
    }
   ],
   "source": [
    "def fake_train(batch_size=24):\n",
    "  assert batch_size > 0 and batch_size < 25\n",
    "  normal = np.random.normal(12, 4, 5000)\n",
    "  train = np.arange(batch_size)\n",
    "\n",
    "  for i in range(0, batch_size):\n",
    "    count = 0\n",
    "    for p in normal:\n",
    "      if (p >= i and p < i + 1):\n",
    "        count += 1\n",
    "    train[i] = count\n",
    "  return train\n",
    "\n",
    "example = fake_train(18)\n",
    "print(example)\n",
    "\n",
    "plt.plot(range(0, 18), example)\n",
    "plt.show()"
   ]
  },
  {
   "cell_type": "markdown",
   "metadata": {
    "colab_type": "text",
    "id": "lFwoyygOmWsL"
   },
   "source": [
    "Function to generate a training batch:"
   ]
  },
  {
   "cell_type": "code",
   "execution_count": 3,
   "metadata": {
    "cellView": "both",
    "colab": {
     "autoexec": {
      "startup": false,
      "wait_interval": 0
     },
     "output_extras": [
      {
       "item_id": 1
      }
     ]
    },
    "colab_type": "code",
    "collapsed": true,
    "executionInfo": {
     "elapsed": 6473,
     "status": "ok",
     "timestamp": 1445965583467,
     "user": {
      "color": "#1FA15D",
      "displayName": "Vincent Vanhoucke",
      "isAnonymous": false,
      "isMe": true,
      "permissionId": "05076109866853157986",
      "photoUrl": "//lh6.googleusercontent.com/-cCJa7dTDcgQ/AAAAAAAAAAI/AAAAAAAACgw/r2EZ_8oYer4/s50-c-k-no/photo.jpg",
      "sessionId": "6f6f07b359200c46",
      "userId": "102167687554210253930"
     },
     "user_tz": 420
    },
    "id": "d9wMtjy5hCj9",
    "outputId": "3dd79c80-454a-4be0-8b71-4a4a357b3367"
   },
   "outputs": [],
   "source": [
    "def secs_to_time(time_in_seconds):\n",
    "  hours = time_in_seconds // 3600\n",
    "  minutes = (time_in_seconds - hours * 3600) // 60\n",
    "  seconds = time_in_seconds - hours * 3600 - minutes * 60\n",
    "  return hours, minutes, seconds\n",
    "\n",
    "def time_to_secs(hour, minutes, seconds):\n",
    "  return hour * 3600 + minutes * 60 + seconds\n",
    "\n",
    "def secs_to_string(sec):\n",
    "  result = ':'.join([('%d' % i) for i in secs_to_time(sec)])\n",
    "  return result + (' (%dth second)' % sec)\n",
    "\n",
    "class BatchGenerator(object):\n",
    "  def __init__(self, batch_size):\n",
    "    self._batch_size = batch_size\n",
    "\n",
    "  def spit(self):\n",
    "    labels = fake_train(self._batch_size).reshape(self._batch_size, 1)\n",
    "    train = []\n",
    "\n",
    "    for hour in range(self._batch_size):\n",
    "      minutes = random.randint(0, 59)\n",
    "      seconds = random.randint(0, 59)\n",
    "      train.append(time_to_secs(hour, minutes, seconds))\n",
    "\n",
    "    return np.array(train, dtype=np.float32).reshape(self._batch_size, 1), labels"
   ]
  },
  {
   "cell_type": "markdown",
   "metadata": {},
   "source": [
    "Generate valid and test datasets:"
   ]
  },
  {
   "cell_type": "code",
   "execution_count": 4,
   "metadata": {},
   "outputs": [
    {
     "name": "stdout",
     "output_type": "stream",
     "text": [
      "[[  1612.]\n",
      " [  5556.]\n",
      " [  8026.]\n",
      " [ 13976.]\n",
      " [ 14581.]\n",
      " [ 18236.]\n",
      " [ 22527.]\n",
      " [ 27948.]\n",
      " [ 32383.]\n",
      " [ 33960.]\n",
      " [ 38647.]\n",
      " [ 42985.]\n",
      " [ 45782.]\n",
      " [ 48388.]\n",
      " [ 52879.]\n",
      " [ 57290.]\n",
      " [ 59158.]\n",
      " [ 61562.]\n",
      " [ 66156.]\n",
      " [ 68633.]\n",
      " [ 74289.]\n",
      " [ 76366.]\n",
      " [ 80282.]\n",
      " [ 85324.]]\n",
      "[[  9]\n",
      " [ 15]\n",
      " [ 26]\n",
      " [ 57]\n",
      " [ 84]\n",
      " [128]\n",
      " [193]\n",
      " [250]\n",
      " [340]\n",
      " [425]\n",
      " [472]\n",
      " [484]\n",
      " [533]\n",
      " [468]\n",
      " [404]\n",
      " [344]\n",
      " [248]\n",
      " [196]\n",
      " [111]\n",
      " [ 95]\n",
      " [ 54]\n",
      " [ 31]\n",
      " [ 14]\n",
      " [  7]]\n",
      "Time 0:26:52 (1612th second) => 9 rps\n",
      "Time 1:32:36 (5556th second) => 15 rps\n",
      "Time 2:13:46 (8026th second) => 26 rps\n",
      "Time 3:52:56 (13976th second) => 57 rps\n",
      "Time 4:3:1 (14581th second) => 84 rps\n",
      "Time 5:3:56 (18236th second) => 128 rps\n",
      "Time 6:15:27 (22527th second) => 193 rps\n",
      "Time 7:45:48 (27948th second) => 250 rps\n",
      "Time 8:59:43 (32383th second) => 340 rps\n",
      "Time 9:26:0 (33960th second) => 425 rps\n",
      "Time 10:44:7 (38647th second) => 472 rps\n",
      "Time 11:56:25 (42985th second) => 484 rps\n",
      "Time 12:43:2 (45782th second) => 533 rps\n",
      "Time 13:26:28 (48388th second) => 468 rps\n",
      "Time 14:41:19 (52879th second) => 404 rps\n",
      "Time 15:54:50 (57290th second) => 344 rps\n",
      "Time 16:25:58 (59158th second) => 248 rps\n",
      "Time 17:6:2 (61562th second) => 196 rps\n",
      "Time 18:22:36 (66156th second) => 111 rps\n",
      "Time 19:3:53 (68633th second) => 95 rps\n",
      "Time 20:38:9 (74289th second) => 54 rps\n",
      "Time 21:12:46 (76366th second) => 31 rps\n",
      "Time 22:18:2 (80282th second) => 14 rps\n",
      "Time 23:42:4 (85324th second) => 7 rps\n"
     ]
    }
   ],
   "source": [
    "generator = BatchGenerator(24)\n",
    "\n",
    "test_dataset, test_labels = generator.spit()\n",
    "\n",
    "print(test_dataset)\n",
    "print(test_labels)\n",
    "\n",
    "for sec, label in list(zip(test_dataset, test_labels)):\n",
    "  print('Time %s => %d rps' % (secs_to_string(sec), label))"
   ]
  },
  {
   "cell_type": "markdown",
   "metadata": {
    "colab_type": "text",
    "id": "K8f67YXaDr4C"
   },
   "source": [
    "Simple NN Model with one hidden layer and hyperbolic tangent activation function."
   ]
  },
  {
   "cell_type": "code",
   "execution_count": 9,
   "metadata": {
    "cellView": "both",
    "colab": {
     "autoexec": {
      "startup": false,
      "wait_interval": 0
     }
    },
    "colab_type": "code",
    "collapsed": true,
    "id": "Q5rxZK6RDuGe"
   },
   "outputs": [],
   "source": [
    "feature_size = 1 # number of features to feed input\n",
    "num_labels = 1 # number of output labels\n",
    "num_hidden_nodes = 4\n",
    "batch_size = 17\n",
    "learning_rate = 0.005\n",
    "\n",
    "graph = tf.Graph()\n",
    "with graph.as_default():\n",
    "  # Input data. For the training data, we use a placeholder that will be fed\n",
    "  # at run time with a training minibatch.\n",
    "  X = tf.placeholder(tf.float32, shape=(batch_size, feature_size))\n",
    "  Y = tf.placeholder(tf.float32, shape=(batch_size, 1))\n",
    "\n",
    "  tf_test_dataset = tf.constant(test_dataset)\n",
    "  predict_data = tf.placeholder(tf.float32, shape=(1, feature_size))\n",
    "\n",
    "  # Hidden layer variables\n",
    "  weights1 = tf.Variable(tf.truncated_normal([feature_size, num_hidden_nodes]))\n",
    "  biases1 = tf.Variable(tf.zeros([num_hidden_nodes]))\n",
    "\n",
    "  # Variables.\n",
    "  weights2 = tf.Variable(tf.truncated_normal([num_hidden_nodes, num_labels]))\n",
    "  biases2 = tf.Variable(tf.zeros([num_labels]))\n",
    "\n",
    "  # Training computation.\n",
    "  hidden_layer = tf.nn.sigmoid(tf.matmul(X, weights1) + biases1)\n",
    "\n",
    "  y = tf.matmul(hidden_layer, weights2) + biases2\n",
    "  loss = tf.reduce_mean(tf.square(y - Y))\n",
    "\n",
    "  # Optimizer.\n",
    "  optimizer = tf.train.GradientDescentOptimizer(learning_rate).minimize(loss)\n",
    "\n",
    "  # Predictions for the training, test and real data.\n",
    "  train_prediction = y\n",
    "#   test_prediction_hidden = tf.nn.sigmoid(tf.matmul(tf_test_dataset, weights1) + biases1)\n",
    "#   test_prediction = tf.matmul(test_prediction_hidden, weights2) + biases2\n",
    "  prediction_hidden = tf.nn.sigmoid(tf.matmul(predict_data, weights1) + biases1)\n",
    "  prediction = tf.matmul(prediction_hidden, weights2) + biases2"
   ]
  },
  {
   "cell_type": "code",
   "execution_count": 10,
   "metadata": {
    "cellView": "both",
    "colab": {
     "autoexec": {
      "startup": false,
      "wait_interval": 0
     },
     "output_extras": [
      {
       "item_id": 41
      },
      {
       "item_id": 80
      },
      {
       "item_id": 126
      },
      {
       "item_id": 144
      }
     ]
    },
    "colab_type": "code",
    "executionInfo": {
     "elapsed": 199909,
     "status": "ok",
     "timestamp": 1445965877333,
     "user": {
      "color": "#1FA15D",
      "displayName": "Vincent Vanhoucke",
      "isAnonymous": false,
      "isMe": true,
      "permissionId": "05076109866853157986",
      "photoUrl": "//lh6.googleusercontent.com/-cCJa7dTDcgQ/AAAAAAAAAAI/AAAAAAAACgw/r2EZ_8oYer4/s50-c-k-no/photo.jpg",
      "sessionId": "6f6f07b359200c46",
      "userId": "102167687554210253930"
     },
     "user_tz": 420
    },
    "id": "RD9zQCZTEaEm",
    "outputId": "5e868466-2532-4545-ce35-b403cf5d9de6"
   },
   "outputs": [
    {
     "name": "stdout",
     "output_type": "stream",
     "text": [
      "Initialized\n",
      "Minibatch loss at step 0: 101879.945312\n",
      "Minibatch loss at step 50: 33723.062500\n",
      "Minibatch loss at step 100: 28679.201172\n",
      "Minibatch loss at step 150: 29763.468750\n",
      "Minibatch loss at step 200: 30679.763672\n",
      "Minibatch loss at step 250: 30639.957031\n",
      "Minibatch loss at step 300: 32010.757812\n",
      "Minibatch loss at step 350: 28941.101562\n",
      "Minibatch loss at step 400: 29980.830078\n",
      "Minibatch loss at step 450: 31324.445312\n",
      "Minibatch loss at step 500: 28850.371094\n",
      "Minibatch loss at step 550: 30723.386719\n"
     ]
    }
   ],
   "source": [
    "num_steps = 551\n",
    "generator = BatchGenerator(batch_size)\n",
    "\n",
    "def accuracy(predictions, labels):\n",
    "  return (100.0 * np.sum(np.argmax(predictions, 1) == np.argmax(labels))\n",
    "          / predictions.shape[0])\n",
    "\n",
    "session = tf.Session(graph=graph)\n",
    "\n",
    "with graph.as_default():\n",
    "  with session.as_default():\n",
    "    tf.global_variables_initializer().run()\n",
    "    print(\"Initialized\")\n",
    "    for step in range(num_steps):\n",
    "      batch_data, batch_labels = generator.spit()\n",
    "#       print(batch_data.shape, batch_labels.shape)\n",
    "      # Prepare a dictionary telling the session where to feed the minibatch.\n",
    "      # The key of the dictionary is the placeholder node of the graph to be fed,\n",
    "      # and the value is the numpy array to feed to it.\n",
    "      feed_dict = {X : batch_data, Y : batch_labels}\n",
    "      _, l = session.run(\n",
    "        [optimizer, loss], feed_dict=feed_dict)\n",
    "      if (step % 50 == 0):\n",
    "        print(\"Minibatch loss at step %d: %f\" % (step, l))\n",
    "#         print(\"Minibatch accuracy: %.1f%%\" % accuracy(predictions, batch_labels))\n",
    "  #       print(\"Validation accuracy: %.1f%%\" % accuracy(\n",
    "  #         valid_prediction.eval(), valid_labels))\n",
    "#         print(\"Test accuracy: %.1f%%\" % accuracy(test_prediction.eval(), test_labels))"
   ]
  },
  {
   "cell_type": "markdown",
   "metadata": {
    "collapsed": true
   },
   "source": [
    "Let us check it out"
   ]
  },
  {
   "cell_type": "code",
   "execution_count": 13,
   "metadata": {},
   "outputs": [
    {
     "name": "stdout",
     "output_type": "stream",
     "text": [
      "We want to predict rps at 1:0:0 (3600th second)\n",
      "[[ 262.34436035]]\n",
      "[[ 1.26372385 -1.40144181  0.53504199 -0.91464972]]\n",
      "[  0.00000000e+00   5.64513605e-13  -8.24061339e-04  -3.00552205e-09]\n"
     ]
    }
   ],
   "source": [
    "to_predict = time_to_secs(1, 0, 0)\n",
    "print('We want to predict rps at %s' % secs_to_string(to_predict))\n",
    "data_to_predict = np.array([to_predict]).reshape(1, feature_size)\n",
    "\n",
    "with session.as_default():\n",
    "  print(prediction.eval(feed_dict={predict_data : data_to_predict}))\n",
    "  print(weights1.eval())\n",
    "  print(biases1.eval())"
   ]
  },
  {
   "cell_type": "code",
   "execution_count": null,
   "metadata": {
    "collapsed": true
   },
   "outputs": [],
   "source": []
  }
 ],
 "metadata": {
  "colab": {
   "default_view": {},
   "name": "6_lstm.ipynb",
   "provenance": [],
   "version": "0.3.2",
   "views": {}
  },
  "kernelspec": {
   "display_name": "Python 3",
   "language": "python",
   "name": "python3"
  },
  "language_info": {
   "codemirror_mode": {
    "name": "ipython",
    "version": 3
   },
   "file_extension": ".py",
   "mimetype": "text/x-python",
   "name": "python",
   "nbconvert_exporter": "python",
   "pygments_lexer": "ipython3",
   "version": "3.6.1"
  }
 },
 "nbformat": 4,
 "nbformat_minor": 1
}
